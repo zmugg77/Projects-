{
 "cells": [
  {
   "cell_type": "markdown",
   "id": "bbb00f87",
   "metadata": {
    "id": "BwRC0GRhlZfF"
   },
   "source": [
    "# Relativity Python mini-project: Simulation of a neutrino beam"
   ]
  },
  {
   "cell_type": "markdown",
   "id": "4f2d25d1",
   "metadata": {
    "id": "HctX-H4nlZfK"
   },
   "source": [
    "## 1. PARENT-PARTICLE REST FRAME\n",
    "    \n",
    "Consider a generic 2-body decay $A \\rightarrow B + C$ with masses $m_A$, $m_B$, $m_C$. You should have already thought through all the physics of this in the seminar.\n",
    "\n",
    "We will consider below the specific example of decays of pions ($\\pi$), and kaons ($K$) into a lepton ($L$) and its associated neutrino ($\\nu_L$):  $\\pi$, $K\\rightarrow L$ + $\\nu_L$.\n",
    "\n",
    "There are three types of charged lepton known and each has a corresponding neutrino - the electron $e$ and electron neutrino $\\nu_e$; their heavier analogues the muon $\\mu$ and muon neutrino $\\nu_\\mu$; and heavier still, the tau $\\tau$ and tau neutrino $\\nu_\\tau$.\n",
    "\n",
    "For the particle (rest-)masses, use the approximations:\n",
    "\\begin{align*}\n",
    "m_\\pi &= 140\\,\\text{MeV/$c^2$} \\\\\n",
    "m_K  &= 490\\,\\text{MeV/$c^2$} \\\\\n",
    "m_e &= 0.511\\,\\text{MeV/$c^2$} \\\\\n",
    "m_{\\nu_e} &= 1.1 \\,\\text{eV/$c^2$} \\\\\n",
    "m_\\mu &= 105\\,\\text{MeV/$c^2$}\\\\\n",
    "m_{\\nu_\\mu} &= 0.19\\,\\text{MeV/$c^2$} \\\\\n",
    "m_\\tau &= 1777\\,\\text{MeV/$c^2$} \\\\\n",
    "m_{\\nu_\\tau} &= 18.2 \\,\\text{MeV/$c^2$} \\\\\n",
    "\\end{align*}\n",
    "\n",
    "In places below, we'll use the abbreviations rf refer to the rest frame and lf for the lab frame.\n",
    "\n",
    "Throughout the code, work in natural units based on MeV, that is:\n",
    "- energy units of MeV\n",
    "- momentum units of MeV/c\n",
    "- mass units of MeV/c^2"
   ]
  },
  {
   "cell_type": "markdown",
   "id": "9496735d",
   "metadata": {},
   "source": [
    "### 1.1 Write a function which calculates the energy of the product particle $C$ in the rest frame of the parent particle"
   ]
  },
  {
   "cell_type": "code",
   "execution_count": 26,
   "id": "f1923e2c",
   "metadata": {},
   "outputs": [],
   "source": [
    "import math\n",
    "\n",
    "e=1.602e-19\n",
    "\n",
    "c=3e8 #speed of light\n",
    "eM=e*1e6 #useful for converting energies from SI to MeV\n",
    "eG=eM*1e3 #useful for converting energies from SI to GeV\n",
    "\n",
    "\n",
    "def findEProd_rf(ma,mb,mc):\n",
    "    # calculate energy in the rest frame using relativistic formula\n",
    "    p = math.sqrt((ma**2 - (mb + mc)**2) * (ma**2 - (mb - mc)**2)) / (2 * ma)\n",
    "    energy = math.sqrt(mc**2 + p**2)\n",
    "    return energy  "
   ]
  },
  {
   "cell_type": "markdown",
   "id": "d949c6d4",
   "metadata": {},
   "source": [
    "### 1.2  For the decay $\\pi, K \\rightarrow e+\\nu_e$, use the function you've just written to calculate the energies of the two decay products in the parent-particle rest frame: Ee\\_rf\\_pi and Enu\\_e\\_rf\\_pi for the pion decay and Ee\\_rf\\_K and Enu\\_e\\_rf\\_K for the kaon decay and verify that energy is conserved."
   ]
  },
  {
   "cell_type": "code",
   "execution_count": 27,
   "id": "32345f2a",
   "metadata": {
    "scrolled": true
   },
   "outputs": [
    {
     "name": "stdout",
     "output_type": "stream",
     "text": [
      "pi, K --> e + nu_e\n",
      "Pi decay:  e energy  70.00093257500001  MeV\n",
      "Pi decay: nu energy  69.99906742500002  MeV\n",
      "Total energy before: 140\n",
      "Total energy after:  140.00000000000003\n",
      " K decay:  e energy  245.00026645  MeV\n",
      "K decay: nu energy  244.99973355  MeV\n",
      "Total energy before: 490\n",
      "Total energy after:  490.0\n"
     ]
    }
   ],
   "source": [
    "mpi=140 #units MeV/c^2\n",
    "mK=490\n",
    "me=0.511 \n",
    "mnu_e=1.1e-6 \n",
    "\n",
    "print('pi, K --> e + nu_e')\n",
    "\n",
    "Ee_rf_pi=findEProd_rf(mpi,mnu_e,me)\n",
    "print('Pi decay:  e energy ',Ee_rf_pi,' MeV')\n",
    "\n",
    "Enu_e_rf_pi=findEProd_rf(mpi,me,mnu_e) \n",
    "print('Pi decay: nu energy ',Enu_e_rf_pi,' MeV')\n",
    "\n",
    "print('Total energy before:',mpi)\n",
    "print('Total energy after: ',Enu_e_rf_pi+Ee_rf_pi)\n",
    "\n",
    "Ee_rf_K=findEProd_rf(mK,mnu_e,me)\n",
    "print(' K decay:  e energy ',Ee_rf_K,' MeV')\n",
    "\n",
    "Enu_e_rf_K=findEProd_rf(mK,me,mnu_e)\n",
    "print( 'K decay: nu energy ',Enu_e_rf_K,' MeV')\n",
    "\n",
    "print('Total energy before:',mK)\n",
    "print('Total energy after: ',Enu_e_rf_K+Ee_rf_K)"
   ]
  },
  {
   "cell_type": "code",
   "execution_count": 28,
   "id": "83f4a627",
   "metadata": {},
   "outputs": [
    {
     "name": "stdout",
     "output_type": "stream",
     "text": [
      "Energy is conserved for pion decay.\n",
      "Energy is conserved for kaon decay.\n"
     ]
    }
   ],
   "source": [
    "E_pi_lab = mpi  # Total energy of pion in the lab frame\n",
    "\n",
    "E_total_rf_pi = Ee_rf_pi + Enu_e_rf_pi  # Total energy of decay products in the rest frame of pion\n",
    "E_total_lab_pi = E_total_rf_pi  # Total energy of decay products in the lab frame (energy is conserved)\n",
    "\n",
    "# Verify energy conservation\n",
    "energy_conserved_pi = abs(E_pi_lab - E_total_lab_pi) < 1e-6  # Check if the difference is negligible\n",
    "\n",
    "if energy_conserved_pi:\n",
    "    print(\"Energy is conserved for pion decay.\")\n",
    "else:\n",
    "    print(\"Energy is not conserved for pion decay.\")\n",
    "\n",
    "    \n",
    "E_K_lab = mK  # Total energy of kaon in the lab frame\n",
    "\n",
    "E_total_rf_K = Ee_rf_K + Enu_e_rf_K  # Total energy of decay products in the rest frame of kaon\n",
    "E_total_lab_K = E_total_rf_K  # Total energy of decay products in the lab frame (energy is conserved)\n",
    "\n",
    "# Verify energy conservation\n",
    "energy_conserved_K = abs(E_K_lab - E_total_lab_K) < 1e-6  # Check if the difference is negligible\n",
    "\n",
    "if energy_conserved_K:\n",
    "    print(\"Energy is conserved for kaon decay.\")\n",
    "else:\n",
    "    print(\"Energy is not conserved for kaon decay.\")\n"
   ]
  },
  {
   "cell_type": "markdown",
   "id": "39a1db4d",
   "metadata": {},
   "source": [
    "### 1.3 Now for the decay $\\pi, K \\rightarrow \\mu+\\nu_\\mu$, calculate the energies of the two decay products in the parent-particle rest frame: Emu\\_rf\\_pi and Enu\\_mu\\_rf\\_pi for the pion decay and Emu\\_rf\\_K and Enu\\_mu\\_rf\\_K for the kaon decay and verify that energy is conserved."
   ]
  },
  {
   "cell_type": "code",
   "execution_count": 29,
   "id": "f911ab46",
   "metadata": {},
   "outputs": [
    {
     "name": "stdout",
     "output_type": "stream",
     "text": [
      "pi, K --> mu + nu_mu\n",
      "Pi decay: nu energy  30.625000000128924  MeV\n",
      "Pi decay: mu energy  109.37499999987106  MeV\n",
      "Total energy before: 140\n",
      "Total energy after:  140.0\n",
      " K decay: nu energy  233.75000000003683  MeV\n",
      "K decay: mu energy  256.24999999996317  MeV\n",
      "Total energy before: 490\n",
      "Total energy after:  490.0\n"
     ]
    }
   ],
   "source": [
    "mmu=105\n",
    "mnu=0.19e-3\n",
    "\n",
    "print('pi, K --> mu + nu_mu')\n",
    "\n",
    "Enu_mu_rf_pi=findEProd_rf(mpi,mmu,mnu)\n",
    "print('Pi decay: nu energy ',Enu_mu_rf_pi,' MeV')\n",
    "\n",
    "Emu_rf_pi = findEProd_rf(mpi, mnu, mmu)\n",
    "print('Pi decay: mu energy ', Emu_rf_pi, ' MeV')\n",
    "\n",
    "print('Total energy before:', mpi)\n",
    "print('Total energy after: ', Emu_rf_pi + Enu_mu_rf_pi)\n",
    "\n",
    "\n",
    "\n",
    "Enu_mu_rf_K=findEProd_rf(mK,mmu,mnu)\n",
    "print(' K decay: nu energy ',Enu_mu_rf_K,' MeV')\n",
    "\n",
    "Emu_rf_K = findEProd_rf(mK, mnu, mmu)\n",
    "print('K decay: mu energy ', Emu_rf_K, ' MeV')\n",
    "\n",
    "print('Total energy before:', mK)\n",
    "print('Total energy after: ', Emu_rf_K + Enu_mu_rf_K)"
   ]
  },
  {
   "cell_type": "markdown",
   "id": "a5f03fe8",
   "metadata": {},
   "source": [
    "### 1.4(a) Now, for the decay $\\pi, K \\rightarrow \\tau+\\nu_\\tau$, calculate the energy of the decay products in the parent-particle rest frame: Etau\\_rf\\_pi and Enu\\_tau\\_rf\\_pi for the pion decay and Etau\\_rf\\_pi and Enu\\_tau\\_rf\\_K for the kaon decay."
   ]
  },
  {
   "cell_type": "code",
   "execution_count": 32,
   "id": "fb02b474",
   "metadata": {},
   "outputs": [
    {
     "name": "stdout",
     "output_type": "stream",
     "text": [
      "pi, K --> tau + nu_tau\n",
      "Pi decay: tau energy  11346.420571428573  MeV\n",
      "Pi decay: nu_tau energy  11206.420571428573  MeV\n",
      "Total energy before: 140\n",
      "Total energy after:  140.0\n",
      "K decay: tau energy  3466.834448979592  MeV\n",
      "K decay: nu_tau energy  2976.834448979592  MeV\n",
      "Total energy before: 490\n",
      "Total energy after:  490.0\n"
     ]
    }
   ],
   "source": [
    "mtau=1777\n",
    "mnu_tau=18.2\n",
    "\n",
    "print('pi, K --> tau + nu_tau')\n",
    "\n",
    "Etau_rf_pi = findEProd_rf(mpi, mnu_tau, mtau)\n",
    "print('Pi decay: tau energy ', Etau_rf_pi, ' MeV')\n",
    "\n",
    "Enu_tau_rf_pi = findEProd_rf(mpi, mtau, mnu_tau)\n",
    "print('Pi decay: nu_tau energy ', Enu_tau_rf_pi, ' MeV')\n",
    "\n",
    "print('Total energy before:', mpi)\n",
    "print('Total energy after: ', Etau_rf_pi - Enu_tau_rf_pi)\n",
    "\n",
    "Etau_rf_K = findEProd_rf(mK, mnu_tau, mtau)\n",
    "print('K decay: tau energy ', Etau_rf_K, ' MeV')\n",
    "\n",
    "Enu_tau_rf_K = findEProd_rf(mK, mtau, mnu_tau)\n",
    "print('K decay: nu_tau energy ', Enu_tau_rf_K, ' MeV')\n",
    "\n",
    "print('Total energy before:', mK)\n",
    "print('Total energy after: ', Etau_rf_K - Enu_tau_rf_K)"
   ]
  },
  {
   "cell_type": "markdown",
   "id": "93944f15",
   "metadata": {},
   "source": [
    "### 1.4(b) Finally, consider the decay of a different parent particle, the strange D meson, D$_s$, which can also decay into a $\\tau$ and a $\\nu_\\tau$. For the decay $D_s \\rightarrow \\tau+\\nu_\\tau$, calculate the energies of the decay products in the parent-particle rest frame: Etau\\_rf\\_Ds and Enu\\_tau\\_rf\\_Ds.  Take $m_{D_s}=1920$ MeV."
   ]
  },
  {
   "cell_type": "code",
   "execution_count": 35,
   "id": "6547221c",
   "metadata": {
    "scrolled": false
   },
   "outputs": [
    {
     "name": "stdout",
     "output_type": "stream",
     "text": [
      "Ds -> tau + nu_tau\n",
      "Ds decay: tau energy  1782.239  MeV\n",
      "Ds decay: nu_tau energy  137.76099999999997  MeV\n",
      "Total energy before: 1920\n",
      "Total energy after:  1920.0\n"
     ]
    }
   ],
   "source": [
    "mtau=1777 \n",
    "mDs = 1920  # mass of Ds meson in MeV/c^2 \n",
    "\n",
    "print('Ds -> tau + nu_tau')\n",
    "\n",
    "Etau_rf_Ds = findEProd_rf(mDs, mnu_tau, mtau)\n",
    "print('Ds decay: tau energy ', Etau_rf_Ds, ' MeV')\n",
    "\n",
    "Enu_tau_rf_Ds = findEProd_rf(mDs, mtau, mnu_tau)\n",
    "print('Ds decay: nu_tau energy ', Enu_tau_rf_Ds, ' MeV')\n",
    "\n",
    "print('Total energy before:', mDs)\n",
    "print('Total energy after: ', Etau_rf_Ds + Enu_tau_rf_Ds)"
   ]
  },
  {
   "cell_type": "markdown",
   "id": "ab38662f",
   "metadata": {},
   "source": [
    "## FROM NOW ON WE WILL STUDY JUST THE DECAY $\\rightarrow \\mu + \\nu_\\mu$ "
   ]
  },
  {
   "cell_type": "code",
   "execution_count": null,
   "id": "6b025aa9",
   "metadata": {},
   "outputs": [],
   "source": [
    "Enu_rf_pi=Enu_mu_rf_pi\n",
    "Enu_rf_K=Enu_mu_rf_K"
   ]
  },
  {
   "cell_type": "code",
   "execution_count": null,
   "id": "8ab1e9c5",
   "metadata": {},
   "outputs": [],
   "source": [
    "import numpy as np"
   ]
  },
  {
   "cell_type": "markdown",
   "id": "65bbc2da",
   "metadata": {},
   "source": [
    "### 1.5(a) Write a function to calculate the 3-momentum (again in the parent-particle rest frame) of particle $C$ n Cartesian coordinates as a function of its polar angle $\\theta$ with respect to the $z$-axis and azimuthal angle $\\phi$. "
   ]
  },
  {
   "cell_type": "code",
   "execution_count": null,
   "id": "3ddd20a5",
   "metadata": {
    "id": "qwvs86WjlZfT"
   },
   "outputs": [],
   "source": [
    "def find3mtmC_rf(ma,mb,mc,theta,phi): #3-momentum p of particle C \n",
    "    p=np.sqrt(findEProd_rf(ma,mb,mc)**2-mc**2)\n",
    "    return p*np.array([np.sin(phi)*np.sin(theta),np.sin(phi)*np.cos(theta),np.cos(phi)])"
   ]
  },
  {
   "cell_type": "markdown",
   "id": "7891a812",
   "metadata": {},
   "source": [
    "### 1.5(b) Use the functions above to calculate the 3-momentum of the $\\nu$ for both the $\\pi$ decay and the $K$ decay in the parent-particle rest frame, for a particular value $\\theta=30º$ and assuming the decay happens on the plane $x = 0$"
   ]
  },
  {
   "cell_type": "code",
   "execution_count": null,
   "id": "782ad1de",
   "metadata": {},
   "outputs": [],
   "source": [
    "theta=np.pi/6\n",
    "phi=np.pi/2\n",
    "\n",
    "p_nu_rf_pi=find3mtmC_rf(mpi,mmu,mnu,theta,phi)\n",
    "p_nu_rf_K=find3mtmC_rf(mK,mmu,mnu,theta,phi)\n",
    "\n",
    "print('For pi decay: 3-mtm of nu in rf is ',p_nu_rf_pi,' MeV/c')\n",
    "print('For K  decay: 3-mtm of nu in rf is ',p_nu_rf_K,' MeV/c')"
   ]
  },
  {
   "cell_type": "markdown",
   "id": "e2a8088f",
   "metadata": {},
   "source": [
    "### 1.5(c) Show that the total 3-momentum in the rest frame before and after the decay is conserved."
   ]
  },
  {
   "cell_type": "code",
   "execution_count": null,
   "id": "7afc10df",
   "metadata": {},
   "outputs": [],
   "source": [
    "p_mu_rf_pi=find3mtmC_rf(mpi,mnu,mmu,((np.pi/2)+theta),1.*phi)\n",
    "print('For pi decay: 3-mtm of nu in rf is ',p_nu_rf_pi,' MeV/c')\n",
    "print('For pi decay: 3-mtm of mu in rf is ',p_mu_rf_pi,' MeV/c')\n",
    "print('For pi decay: total 3-mtm in rf is ',p_mu_rf_pi+p_nu_rf_pi,' MeV/c \\n')\n",
    "\n",
    "p_mu_rf_K=find3mtmC_rf(mK,mnu,mmu,((np.pi/2)+theta),1.*phi)\n",
    "print('For pi decay: 3-mtm of nu in rf is ',p_nu_rf_K,' MeV/c')\n",
    "print('For pi decay: 3-mtm of mu in rf is ',p_mu_rf_K,' MeV/c')\n",
    "print('For pi decay: total 3-mtm in rf is ',p_mu_rf_K+p_nu_rf_K,' MeV/c \\n')"
   ]
  },
  {
   "cell_type": "markdown",
   "id": "4aefce02",
   "metadata": {},
   "source": [
    "### 1.6 Write a function that takes as its inputs the energy and 3-momentum of a particle $C$ and returns the 4-momentum in the parent-particle rest frame. You will use this in the following parts"
   ]
  },
  {
   "cell_type": "code",
   "execution_count": null,
   "id": "4e76a6c8",
   "metadata": {
    "colab": {
     "base_uri": "https://localhost:8080/"
    },
    "id": "GmhCxgGwlZfV",
    "outputId": "d5c47022-9361-4c01-e0d0-bb3d50ca0821"
   },
   "outputs": [],
   "source": [
    "def find4mtm(E,p): #Combine energy and 3-momentum to give four-momentum\n",
    "    return np.insert(p, -1, E, axis=0)\n",
    "\n",
    "mtm4nu_rf_pi=find4mtm(Enu_rf_pi,p_nu_rf_pi)\n",
    "mtm4nu_rf_K=find4mtm(Enu_rf_K,p_nu_rf_K)\n",
    "\n",
    "print('For pi decay: neutrino rf 4-momentum :',mtm4nu_rf_pi, ' MeV/c')\n",
    "print('For K  decay: neutrino rf 4-momentum :',mtm4nu_rf_K, ' MeV/c')"
   ]
  },
  {
   "cell_type": "markdown",
   "id": "196ee44a",
   "metadata": {},
   "source": [
    "### 1.7 Use the functions you have written to make a function find4mtm\\_C\\_rf(mA,mB,mC,theta,phi) which returns a four-element array of the four-momentum [$E/c$,$p$] of the product particle $C$ in the parent-particle rest frame ($p$ is the 3-momentum in Cartesian coordinates), where the inputs are the particle masses, and theta and phi are the angles $\\theta$ and $\\phi$ already described."
   ]
  },
  {
   "cell_type": "code",
   "execution_count": null,
   "id": "607df201",
   "metadata": {},
   "outputs": [],
   "source": [
    "def find4mtm_C_rf(mA,mB,mC,theta1,phi1):\n",
    "    Enu=findEProd_rf(mpi,mmu,mnu)    \n",
    "    p_nu=find3mtmC_rf(mpi,mmu,mnu,theta1,phi1) #mtm of product of decay\n",
    "    return find4mtm(Enu,p_nu)"
   ]
  },
  {
   "cell_type": "markdown",
   "id": "ace16b40",
   "metadata": {},
   "source": [
    "### 1.8(a) Write a function for a general two-body decay that, given the 4-momentum of particles $A$ and $C$, uses 4-momentum conservation to compute the 4-momentum of particle $B$ and returns the direction of travel of particle B in spherical coordinates, ($\\theta_B,\\phi_B$)."
   ]
  },
  {
   "cell_type": "code",
   "execution_count": null,
   "id": "44fb811d",
   "metadata": {},
   "outputs": [],
   "source": [
    "def findangleB(mtm4A,mtm4C):\n",
    "    mtm4B=mtm4A-mtm4C\n",
    "    phiB=np.arctan2(mtm4B[2],mtm4B[1])\n",
    "    pxyB=np.sqrt(mtm4B[1]**2+mtm4B[2]**2)\n",
    "    thetaB=np.arctan2(pxyB,mtm4B[3])\n",
    "    return thetaB,phiB"
   ]
  },
  {
   "cell_type": "markdown",
   "id": "8de37173",
   "metadata": {},
   "source": [
    "### 1.8(b) Use this function, and the 4-momentum of the neutrino for the decay from 1.5(b) to compute the direction of travel of the generated muon in the pion rest frame.  Does this match your expectation? ***COMMENT IN YOUR DEBUGGING REPORT***"
   ]
  },
  {
   "cell_type": "code",
   "execution_count": null,
   "id": "f190dbb1",
   "metadata": {},
   "outputs": [],
   "source": [
    "print('PION DECAY:')\n",
    "mtm4pi_rf_pi=find4mtm(mpi,np.zeros(3))\n",
    "theta_pi,phi_pi=findangleB(mtm4pi_rf_pi,mtm4nu_rf_pi)\n",
    "print('muon (theta,phi)=(%.3f pi, %.3f pi) ' % (theta_pi/np.pi,phi_pi/np.pi) )\n",
    "\n",
    "print('KAON DECAY:')\n",
    "mtm4pi_rf_K=find4mtm(mK,np.zeros(3))\n",
    "theta_K,phi_K=findangleB(mtm4pi_rf_K,mtm4nu_rf_K)\n",
    "print('muon (theta,phi)=(%.3f pi, %.3f pi) ' % (theta_K/np.pi,phi_K/np.pi) )"
   ]
  },
  {
   "cell_type": "markdown",
   "id": "98d5ab7e",
   "metadata": {},
   "source": [
    "## 2. LAB FRAME\n",
    "Now let's think about the same quantities you've just been considering, this time in the lab frame."
   ]
  },
  {
   "cell_type": "markdown",
   "id": "e6bada98",
   "metadata": {},
   "source": [
    "### 2.0(a) Given the mass and energy of a *general* particle in a particular frame, write a function which finds the value of $\\beta$ of that particle's rest frame and another that returns $\\gamma$ for the particle's rest frame."
   ]
  },
  {
   "cell_type": "code",
   "execution_count": 2,
   "id": "40477bbf",
   "metadata": {
    "collapsed": true
   },
   "outputs": [],
   "source": [
    "def findbeta(p,m):\n",
    "    return p/E #beta=pc/E and in natural units pc=p\n",
    "\n",
    "def findgamma(beta):\n",
    "    return 1/np.sqrt(1-beta**2)"
   ]
  },
  {
   "cell_type": "markdown",
   "id": "26bf8699",
   "metadata": {},
   "source": [
    "### We'll now assume that the $\\pi$ and $K$ are travelling in the lab frame with energy 1 GeV in direction $+z$.\n",
    "\n",
    "### 2.0(b) Consider separately the decays of the K particle and the $\\pi$ particle. For each decay, calculate the value of  $\\beta$  *of the lab frame* as seen by the parent-particle rest frame."
   ]
  },
  {
   "cell_type": "code",
   "execution_count": null,
   "id": "6977c7eb",
   "metadata": {},
   "outputs": [],
   "source": [
    "EA_lf_pi=1000 #1GeV \n",
    "EA_lf_K=1000  \n",
    "beta_lf_pi=-findbeta(np.sqrt(EA_lf_pi**2-mpi**2),mpi)\n",
    "beta_lf_K=-findbeta(np.sqrt(EA_lf_K**2-mK**2),mK)\n",
    "print('beta of lab from pi rest frame is ',beta_lf_pi)\n",
    "print('gamma of lab from pi rest frame is ',findgamma(beta_lf_pi))\n",
    "print('beta of lab from K rest frame is ',beta_lf_K)\n",
    "print('gamma of lab from K rest frame is ',findgamma(beta_lf_K))"
   ]
  },
  {
   "cell_type": "markdown",
   "id": "16d7d5eb",
   "metadata": {},
   "source": [
    "### 2.0(c) Assuming that the pion and kaon lifetimes $t_{rf}$ observed in their rest frames are $2.6·10^{-8} s$ and  $1.2·10^{-8} s$, respectively, compute their lifetime in the lab frame $t_{lf}$."
   ]
  },
  {
   "cell_type": "code",
   "execution_count": 56,
   "id": "1513a2a6",
   "metadata": {},
   "outputs": [],
   "source": [
    "tau_rf_pi = 2.6e-8\n",
    "tau_lf_pi = tau_rf_pi/(1-beta_lf_pi**2)\n",
    "print('Pi lifetime (in s) in rf:', tau_rf_pi)\n",
    "print('Pi lifetime (in s) in lf:', tau_lf_pi)\n",
    "\n",
    "tau_rf_K = 1.2e-8 \n",
    "tau_lf_K = tau_rf_K/(1-beta_lf_K**2)\n",
    "print('K lifetime (in s) in rf:', tau_rf_K)\n",
    "print('K lifetime (in s) in lf:', tau_lf_K)"
   ]
  },
  {
   "cell_type": "markdown",
   "id": "394f40ee",
   "metadata": {},
   "source": [
    "### 2.0(d) Generalise this to considering other pion and kaon energies: compute the ratio $t_{lf}/t_{rf}$ for a range of realistic values of $\\beta$"
   ]
  },
  {
   "cell_type": "code",
   "execution_count": 98,
   "id": "93c998b9",
   "metadata": {},
   "outputs": [],
   "source": [
    "import matplotlib.pyplot as plt\n",
    "beta_range = np.linspace(-1, 1, 100)\n",
    "ratio = np.sqrt(1-beta_range**2)\n",
    "plt.plot(beta_range, ratio)\n",
    "plt.xlabel(r'$\\beta$', fontsize=22)\n",
    "plt.ylabel(r'$\\frac{t_{lf}}{t_{rf}}$', fontsize=30, rotation=0, labelpad=30)\n",
    "plt.show()"
   ]
  },
  {
   "cell_type": "markdown",
   "id": "933c7f20",
   "metadata": {},
   "source": [
    "### 2.1 For the 1GeV pi decay, consider what happens if, following the decay, the muon emits a photon in the $+z$ direction, with frequency $f_{rf}$ in the pion's rest frame:\n",
    "Identifying $f_{lf}$ as the frequency in the lab frame, calculate the ratio $r=f_{lf}/f_{rf}$.\n",
    "\n",
    "Now plot the energy of the photon in the lab frame $E_{lf}$ as a function of the energy of the photon in the pion's rest frame, $E_{rf}$, as $E_{rf}$ varies. Choose a sensible range of energies for the plot."
   ]
  },
  {
   "cell_type": "code",
   "execution_count": null,
   "id": "2026be8e",
   "metadata": {},
   "outputs": [],
   "source": [
    "beta_lf_pi = -findbeta(EA_lf_pi,mpi)\n",
    "r = np.sqrt((1+beta_lf_pi)/(1-beta_lf_pi)) \n",
    "print(\"f_{lf}/f_{rf} = \", r)\n",
    "E_lf = np.linspace(1, 10, 100) \n",
    "plt.plot(E_lf, E_lf/r)\n",
    "plt.xlabel(r'$E_{lf} (GeV)$', fontsize=24)\n",
    "plt.ylabel(r'$E_{rf} (GeV)$', fontsize=24, rotation=0, labelpad=30)\n",
    "plt.show()"
   ]
  },
  {
   "cell_type": "markdown",
   "id": "60f58055",
   "metadata": {},
   "source": [
    "### 2.2(a) Write a function which allows you to boost a 4-momentum along the positive z-axis"
   ]
  },
  {
   "cell_type": "code",
   "execution_count": 134,
   "id": "bde9a842",
   "metadata": {
    "collapsed": true
   },
   "outputs": [],
   "source": [
    "def boosted4mtm(m4,beta_b): #for boost along z-axis\n",
    "    gamma_b=findgamma(beta_b)\n",
    "    m4b0=gamma_b*m4[3]-beta_b*gamma_b*m4[0]\n",
    "    m4b3=gamma_b*m4[0]-beta_b*gamma_b*m4[3]\n",
    "    return np.array([m4b0,m4[1],m4[2],m4b3])"
   ]
  },
  {
   "cell_type": "markdown",
   "id": "e7823406",
   "metadata": {},
   "source": [
    "###  2.2(b) Compute the velocity of the neutrino in the lab frame from the 4-momentum in the lab frame. Compare the z-component of this result with what you obtain by applying the velocity addition formula in the rest frame. "
   ]
  },
  {
   "cell_type": "code",
   "execution_count": 148,
   "id": "3abd7268",
   "metadata": {
    "collapsed": true
   },
   "outputs": [],
   "source": [
    "\n",
    "m4_nu_rf_pi=find4mtm(Enu_rf_pi*eG,p_nu_rf_pi) #p_nu_rf_pi from 1.5b\n",
    "v_nu_rf_pi = m4_nu_rf_pi[1:]/(mnu*findgamma(-beta_lf_pi)) # p_lf = gamma_lf·m·v_lf; use -beta, although gamma is the same. \n",
    "vz_rf = v_nu_rf_pi[-1] # just z-component\n",
    "vz_lf = (vz_rf+beta_lf_pi*c)/(1+(beta_lf_pi*vz_rf/c))\n",
    "print('Pi neutrino velocity lf from velocity addition: ', vz_lf,' m/s')\n",
    "\n",
    "m4_nu_lf_pi=boosted4mtm(m4_nu_rf_pi,beta_lf_pi)\n",
    "v_nu_lf_pi2 = m4_nu_lf_pi[1:]/(mnu*findgamma(-beta_lf_pi)) # p_lf = gamma_lf·m·v_lf; use -beta, although gamma is the same. \n",
    "print('Pi neutrino velocity lf from 4-mom in lf:', v_nu_lf_pi2,' m/s')\n",
    "\n",
    "# For the second parent particle\n",
    "\n",
    "m4_nu_rf_K=find4mtm(Enu_rf_K*eG,p_nu_rf_pi)\n",
    "v_nu_rf_K = m4_nu_rf_K[1:]/(mnu*findgamma(-beta_lf_K)) # p_lf = gamma_lf·m·v_lf; use -beta, although gamma is the same. \n",
    "vz_rf = v_nu_rf_K[-1] # just z-component\n",
    "vz_lf = (vz_rf+beta_lf_K*c)/(1+(beta_lf_K*vz_rf/c))\n",
    "print('K neutrino velocity lf from velocity addition: ', vz_lf,' m/s')\n",
    "\n",
    "m4_nu_lf_K=boosted4mtm(m4_nu_rf_K,beta_lf_K)\n",
    "v_nu_lf_K2 = m4_nu_lf_K[1:]/(mnu*findgamma(-beta_lf_K)) # p_lf = gamma_lf·m·v_lf; use -beta, although gamma is the same. \n",
    "print('K neutrino velocity lf from 4-mom in lf: ', v_nu_lf_K2,' m/s')"
   ]
  },
  {
   "cell_type": "markdown",
   "id": "1aef1d6e",
   "metadata": {},
   "source": [
    "###  2.2(c) Compute the energy-momentum invariant for the neutrino in the lab and rest frame."
   ]
  },
  {
   "cell_type": "code",
   "execution_count": 149,
   "id": "a65c0ca1",
   "metadata": {
    "collapsed": true
   },
   "outputs": [],
   "source": [
    "mcheck_pi=np.sqrt(m4_nu_rf_pi[0]**2-(m4_nu_rf_pi[1]**2+m4_nu_rf_pi[2]**2+m4_nu_rf_pi[3]**2))\n",
    "print('pi (rf): pi particle sqrt(E^2-p^2c^2)/c^2=',mcheck_pi,' MeV/c^2')\n",
    "\n",
    "mcheck_pi2=np.sqrt(m4_nu_lf_pi[0]**2-(m4_nu_lf_pi[1]**2+m4_nu_lf_pi[2]**2+m4_nu_lf_pi[3]**2))\n",
    "print('pi (lf): pi particle  sqrt(E^2-p^2c^2)/c^2=',mcheck_pi2,' MeV/c^2')\n",
    "\n",
    "mcheck_K=np.sqrt(m4_nu_rf_K[0]**2-(m4_nu_rf_K[1]**2+m4_nu_rf_K[2]**2+m4_nu_rf_K[3]**2))\n",
    "print(' K (rf): K particle  sqrt(E^2-p^2c^2)/c^2=',mcheck_K,' MeV/c^2')\n",
    "\n",
    "mcheck_K2=np.sqrt(m4_nu_lf_K[0]**2-(m4_nu_lf_K[1]**2+m4_nu_lf_K[2]**2+m4_nu_lf_K[3]**2))\n",
    "print(' K (lf): K particle  sqrt(E^2-p^2c^2)/c^2=',mcheck_K2,' MeV/c^2')"
   ]
  },
  {
   "cell_type": "markdown",
   "id": "dd17712d",
   "metadata": {},
   "source": [
    "### 2.2d At what angle is the neutrino travelling in the lab frame? Use the function you wrote in 1.8a to find the angle at which the muon is travelling in the lab frame. Does this match your expectation? ***COMMENT IN YOUR DEBUGGING REPORT***"
   ]
  },
  {
   "cell_type": "code",
   "execution_count": null,
   "id": "fac2099b",
   "metadata": {
    "collapsed": true
   },
   "outputs": [],
   "source": [
    "print('PION DECAY:')\n",
    "m4_pi_rf_pi=find4mtm(EA_lf_pi,np.array([0.,0.,0.]))\n",
    "m4_pi_lf_pi=boosted4mtm(m4_pi_rf_pi,beta_lf_pi)\n",
    "theta_lf_pi, phi_lf_pi = findangleB(m4_pi_lf_pi,m4_nu_lf_pi)\n",
    "print('muon theta (lf):    ',theta_lf_pi/np.pi,'pi')\n",
    "print('muon phi (lf):      ',phi_lf_pi/np.pi,'pi')\n",
    "\n",
    "#know from momentum conservation that momentum is in opposite directions\n",
    "#so infer directly that angles are reversed\n",
    "phiC_lf_pi=-phi_lf_pi\n",
    "thetaC_lf_pi=-theta_lf_pi\n",
    "print('neutrino theta (lf):',thetaC_lf_pi/np.pi,'pi')\n",
    "print('neutrino phi (lf):  ',phiC_lf_pi/np.pi,'pi')\n",
    "\n",
    "\n",
    "print('KAON DECAY:')\n",
    "m4_pi_rf_K=find4mtm(EA_lf_pi,np.array([0.,0.,0.]))\n",
    "m4_pi_lf_K=boosted4mtm(m4_pi_rf_K,beta_lf_K)\n",
    "theta_lf_K, phi_lf_K = findangleB(m4_pi_lf_K,m4_nu_lf_K)\n",
    "print('muon theta (lf):    ',theta_lf_K/np.pi,'pi')\n",
    "print('muon phi (lf):      ',phi_lf_K/np.pi,'pi')\n",
    "\n",
    "#know from momentum conservation that momentum is in opposite directions\n",
    "#so infer directly that angles are reversed\n",
    "phiC_lf_pi=-phi_lf_pi\n",
    "thetaC_lf_pi=-theta_lf_pi\n",
    "print('neutrino theta (lf):',thetaC_lf_K/np.pi,'pi')\n",
    "print('neutrino phi (lf):  ',phiC_lf_K/np.pi,'pi')"
   ]
  },
  {
   "cell_type": "markdown",
   "id": "393d6e30",
   "metadata": {},
   "source": [
    "### 2.3 Use the functions you have written to make a function find4mtm\\_C\\_lf(mA,mB,mC,theta,phi,EA) \n",
    "which returns a four-element array of the four-momentum [$E$,$pc$] of the product particle $C$ in the lab frame, with $E$ and $pc$ ($p$ is the 3-momentum in Cartesian coordinates), where the inputs are the particle masses mA, mB and mC, theta and phi, the angles $\\theta$ and $\\phi$ already described and EA, the parent-particle energy in the lab frame."
   ]
  },
  {
   "cell_type": "code",
   "execution_count": null,
   "id": "17281d75",
   "metadata": {
    "collapsed": true
   },
   "outputs": [],
   "source": [
    "def find4mtm_C_lf(mA,mB,mC,theta1,phi1,EA):\n",
    "    beta_lf_A=-findbeta(EA,mA)\n",
    "    m4_nu_rf_C=find4mtm_C_rf(mA,mB,mC,theta1,phi1)\n",
    "    return boosted4mtm(m4_nu_rf_C,beta_lf_A)"
   ]
  },
  {
   "cell_type": "markdown",
   "id": "0016f4fe",
   "metadata": {},
   "source": [
    "### 2.4 What are the maximum and minimum values of the energy the product neutrino can have, in the lab frame, when the parent particle has energy 1 GeV? \n",
    "\n",
    "Define four variables Enu\\_lf\\_pi\\_min, Enu\\_lf\\_pi\\_max, Enu\\_lf\\_K\\_min and Enu\\_lf\\_K\\_min to contain these values, in natural units of MeV."
   ]
  },
  {
   "cell_type": "code",
   "execution_count": null,
   "id": "985023eb",
   "metadata": {},
   "outputs": [],
   "source": [
    "p_nu_pi=find3mtmC_rf(mpi,mmu,mnu, np.pi,phi) #mtm of neutrino product of pi decay\n",
    "#beta_lf_pi=-findbeta(EA_lf_pi,mpi) \n",
    "m4_nu_rf_pi=find4mtm(Enu_rf_pi,p_nu_pi) \n",
    "m4_nu_lf_pi_max=boosted4mtm(m4_nu_rf_pi,beta_lf_pi)\n",
    "Enu_lf_pi_max=m4_nu_lf_pi_max[0] #energy is first element of 4-momentum\n",
    "print('Max energy in lab frame (pi decay) is ',Enu_lf_pi_max,' MeV')\n",
    "\n",
    "p_nu_pi=find3mtmC_rf(mpi,mmu,mnu, np.pi/2,phi) #mtm of neutrino product of pi decay\n",
    "#beta_lf_pi=-findbeta(EA_lf_K,mpi) \n",
    "m4_nu_rf_pi=find4mtm(Enu_rf_pi,p_nu_pi)\n",
    "m4_nu_lf_pi_min=boosted4mtm(m4_nu_rf_pi,beta_lf_pi)\n",
    "Enu_lf_pi_min=m4_nu_lf_pi_min[0]\n",
    "print('Min energy in lab frame (pi decay) is ',Enu_lf_pi_min,' MeV')"
   ]
  },
  {
   "cell_type": "markdown",
   "id": "a94998d9",
   "metadata": {},
   "source": [
    "## 3. ENERGY DISTRIBUTIONS"
   ]
  },
  {
   "cell_type": "markdown",
   "id": "8bb94de5",
   "metadata": {},
   "source": [
    "The purpose of this part is to simulate what you would find in a real experiment using the code previously written. By treating each decay event as a random and independent process, we hope to simulate decays in a realistic manner."
   ]
  },
  {
   "cell_type": "markdown",
   "id": "19e64b2d",
   "metadata": {},
   "source": [
    "#### Intro: PRELIMINARIES \n",
    "#### Understanding the RANDOM NUMPY library"
   ]
  },
  {
   "cell_type": "code",
   "execution_count": 1,
   "id": "1eaa9852",
   "metadata": {
    "scrolled": true
   },
   "outputs": [],
   "source": [
    "import numpy as np\n",
    "\n",
    "print('A random number between 0 and 1: ',np.random.rand())\n",
    "print('A random number between 0 and 10: ',10 * np.random.rand())\n",
    "print('An array of 20 random numbers between 0 and 10:', np.random.randint(10, size=20)) "
   ]
  },
  {
   "cell_type": "markdown",
   "id": "c30b628a",
   "metadata": {},
   "source": [
    "#### What do you expect the distribution of random numbers to be like? To answer this question, we sample a sufficiently large set of numbers between 0 and 10 (both limits included) and plot the distribution of values."
   ]
  },
  {
   "cell_type": "code",
   "execution_count": 2,
   "id": "23c43a70",
   "metadata": {},
   "outputs": [],
   "source": [
    "## Import plotting library\n",
    "import matplotlib.pyplot as plt\n",
    "\n",
    "Ns = 10000\n",
    "random_numbers=10*np.random.rand(Ns)\n",
    "plt.plot(random_numbers,'.')\n",
    "plt.xlabel('index')\n",
    "plt.ylabel('Random number')\n",
    "plt.title('Values of random numbers in an array')\n",
    "plt.show()\n",
    "\n",
    "## Make a histogram of the list and include a horizontal line indicating the expected value  \n",
    "Nbins = 100\n",
    "plt.hist(random_numbers, bins=Nbins)\n",
    "plt.hlines(xmin=0, xmax=10, y=Ns/Nbins, color='r', label='mean')\n",
    "plt.xlabel('Random number')\n",
    "plt.ylabel('Frequency N')\n",
    "plt.title('Histogram: Distribution of random numbers in the array')\n",
    "plt.legend()\n",
    "plt.show()"
   ]
  },
  {
   "cell_type": "markdown",
   "id": "d07bb5db",
   "metadata": {},
   "source": [
    "#### Sometimes you may want to generate a set of values that are not uniformly distributed, but instead some values are generated more frequently than others. There are predefined functions for some of these cases (such as for a Gaussian). For other specific cases, it may be necessary to define the function from which the sample is to be taken. In the following example, we'll demonstrate this using the $p(x)=(x/x_{max})^2$ (with $x\\leq xmax$) distribution. "
   ]
  },
  {
   "cell_type": "code",
   "execution_count": 3,
   "id": "1f5c549f",
   "metadata": {
    "scrolled": true
   },
   "outputs": [],
   "source": [
    "xmin = 0\n",
    "xmax = 3\n",
    "x_domain = [xmin, xmax] #domain of x will be xmin<=x<=xmax\n",
    "\n",
    "def distribn_normalised(x): #p(x) distribution function; max value for domain should be 1\n",
    "    return (x**2)/(xmax**2) \n",
    "\n",
    "def generate_x_array(Nevents, x_domain):\n",
    "    \"\"\"\n",
    "    This function yields an array of values of x in the interval x_domain distributed \n",
    "    according to a distribution such that f(x) dx=x^2 dx\n",
    "    The array is of length Narray\n",
    "    \"\"\"\n",
    "    xvals = []\n",
    "    lenout = 0 \n",
    "    Nchunk = Nevents #number of random variables to generate each iteration of the while loop\n",
    "    while lenout < Nevents: \n",
    "        xnew = x_domain[1] * np.random.rand(Nchunk) #generate new prospective values for x from a uniform distribution\n",
    "        y1 = np.random.rand(Nchunk) #random number between 0 and 1 will determine whether to keep each x value\n",
    "        # the frequency at which values are kept is proportional to the value of distribn_normalised\n",
    "        xvals = np.append(xvals, xnew[y1 < distribn_normalised(xnew)]) \n",
    "        lenout = len(xvals) #check whether sufficient values have been generated yet\n",
    "    return xvals[:Nevents] #return an array of the correct length\n",
    "\n",
    "Nevents = 10000\n",
    "Nbins = 100\n",
    "distribn=generate_x_array(Nevents, x_domain)\n",
    "plt.hist(distribn, bins=Nbins)\n",
    "\n",
    "#make an x^2 line for comparison\n",
    "x2=np.linspace(x_domain[0], x_domain[1], 100)\n",
    "y2=(3*Nevents/(Nbins*xmax**2))*x2**2\n",
    "#x^2 coefficient set so that (area under curve)=(bin width * Nevents) gives match to histogram\n",
    "plt.plot(x2,y2,'r--',label='$x^2$')\n",
    "\n",
    "plt.xlabel('Random number x')\n",
    "plt.ylabel('Frequency N')\n",
    "plt.legend()\n",
    "plt.title('Histogram for random values with distribution ~ $x^2$')\n",
    "plt.show()"
   ]
  },
  {
   "cell_type": "markdown",
   "id": "c5e83876",
   "metadata": {},
   "source": [
    "### 3.0 Now think about how to apply this to simulate $N_{events}$ particle decays: rather than assuming a single value of $\\theta$ as we have been so far, we need to generate a realistic distribution of $\\theta$ across multiple decay events. What are the allowed $\\theta_{rf}$ values for the neutrino (in the parent-particle rest frame) for each decay?  How likely is each angle $\\theta_{rf}$?  After giving it some thought, you should be able to use a modified version of the code above to generate $\\theta_{rf}$ for a series of $N_{events}$ parent-particle decay events and plot a histogram of the distribution of $\\theta_{rf}$."
   ]
  },
  {
   "cell_type": "code",
   "execution_count": 18,
   "id": "87263aea",
   "metadata": {
    "scrolled": true
   },
   "outputs": [],
   "source": [
    "def generate_theta_array(Narray=1):\n",
    "    \"\"\"\n",
    "    This function yields an array of values of theta in the interval [0; pi] distributed according\n",
    "    to the theta distribution. The array is of length Narray\n",
    "    \"\"\"\n",
    "    thetavals = []\n",
    "    lenout = 0\n",
    "    Nchunk = Narray\n",
    "    while lenout < Narray:\n",
    "        thetanew = np.pi * np.random.rand(Nchunk)\n",
    "        prob_theta = np.sin(thetanew)*thetanew #because f(theta)dtheta=theta·sin(theta)dtheta\n",
    "        norm_prob_theta = prob_theta/np.pi #normalizing factor\n",
    "        th1 = np.random.rand(Nchunk) #random number between 0 and 1 - keep this value only if less than sin(theta)\n",
    "        thetavals = np.append(thetavals, thetanew[th1 < norm_prob_theta])\n",
    "        #sin theta is in the range 0 and 1 for 0<theta<pi so no normalisation is needed.\n",
    "        lenout = len(thetavals)\n",
    "    return thetavals[:Narray]\n",
    "\n",
    "Nevents = 100000\n",
    "\n",
    "distribn = generate_theta_array(Nevents)\n",
    "plt.hist(distribn/np.pi, bins = Nbins)\n",
    "\n",
    "#make an x.sin(x) line for comparison\n",
    "x3=np.linspace(0, np.pi, 100)\n",
    "y3=(np.pi*Nevents/(3*Nbins))*np.sin(x3)*x3\n",
    "#coefficient set so that (area under curve)=(bin width * Nevents) gives match to histogram\n",
    "xpi_range = np.linspace(0, 1, 100)\n",
    "plt.plot(xpi_range, y3,'r--',label=r'$\\theta·sin(\\theta)$')\n",
    "\n",
    "plt.xlabel(r'$\\theta/\\pi$')\n",
    "plt.ylabel('N')\n",
    "plt.legend()\n",
    "plt.show()"
   ]
  },
  {
   "cell_type": "markdown",
   "id": "f8efe6d2",
   "metadata": {},
   "source": [
    "### 3.1(a) Calculate the distributions of neutrino energies in the lab frame as a function of $\\theta_{rf}$, for pion decays and for kaon decays, assuming parent particles with energy 1 GeV in the lab frame."
   ]
  },
  {
   "cell_type": "code",
   "execution_count": 246,
   "id": "3e26895d",
   "metadata": {
    "collapsed": true
   },
   "outputs": [],
   "source": [
    "#EA_lf_pi and EA_lf_K defined earlier\n",
    "#choose some number of decay events for each type:\n",
    "Nrun_pi=5000\n",
    "Nrun_K=5000\n",
    "\n",
    "#Generate theta values using the previously defined function:\n",
    "theta_rf_pi=generate_theta_array(Nrun_pi)\n",
    "theta_rf_K=generate_theta_array(Nrun_K)            \n",
    "                                   \n",
    "# Define versions of previous functions which can handle arrays for different theta values\n",
    "def find4mtmar(Efm,pfm): #Combine energy and 3-momentum to give four-momentum\n",
    "    return np.insert(pfm, 0, Efm, axis=0)\n",
    "def boosted4mtmar(m4,beta_b): #for boost along z-axis when dealing with an array\n",
    "    gamma_b=findgamma(beta_b)\n",
    "    return np.array([gamma_b*m4[0,:]-beta_b*gamma_b*m4[3,:],m4[1,:],m4[2,:],gamma_b*m4[3,:]-beta_b*gamma_b*m4[0,:]])\n",
    "\n",
    "#calculate for pi decays first\n",
    "gamma_v_pi=(EA_lf_pi/mpi)\n",
    "beta_v_pi= -np.sqrt(1-1/(gamma_v_pi**2)) #beta of lab frame wrt rest frame\n",
    "#find neutrino energy in rest frame\n",
    "energy_nu_rf_pi=findEProd_rf(mpi, mmu, mnu) #particle C in rest frame indpt of angle theta_rf\n",
    "#find neutrino 3-momentum in rest frame\n",
    "p_rf_pi_ar=find3mtmC_rf(mpi, mmu, mnu, theta_rf_pi, phi) #particle C (nu) in rest frame    \n",
    "#find neutrino 4-momentum in rest frame:\n",
    "m4_rf_pi=find4mtmar(energy_nu_rf_pi, p_rf_pi_ar)\n",
    "#find neutrino energy in lab frame:\n",
    "energy_nu_lf_pi=boosted4mtmar(m4_rf_pi,beta_v_pi)[0] #in MeV for plot\n",
    "    \n",
    "energy_nu_lf_pi2 = gamma_v_pi*energy_nu_rf_pi - beta_v_pi*gamma_v_pi*p_rf_pi_ar[2,:]\n",
    "    \n",
    "#now calculate for K decays:\n",
    "gamma_v_K = EA_lf_K/mK\n",
    "beta_v_K = -np.sqrt(1-1/(gamma_v_K**2)) #beta of lab frame wrt rest frame\n",
    "energy_nu_rf_K=findEProd_rf(mK,mmu,mnu) #particle C in rest frame indpt of angle theta_rf\n",
    "#find neutrino 3-momentum in rest frame\n",
    "p_rf_K_ar = find3mtmC_rf(mK,mmu,mnu,theta_rf_K,phi) #particle C (nu) in rest frame    \n",
    "#find neutrino 4-momentum in rest frame:\n",
    "m4_rf_K = find4mtmar(energy_nu_rf_K,p_rf_K_ar)\n",
    "#find neutrino energy in lab frame:\n",
    "energy_nu_lf_K=boosted4mtmar(m4_rf_K,beta_v_K)[0] #in MeV for plot"
   ]
  },
  {
   "cell_type": "markdown",
   "id": "84872a2a",
   "metadata": {},
   "source": [
    "### 3.1(b) Find the analytical form of the dependence between the energy of the product neutrino in the lab frame, Enu_lf, and the angle $\\theta$ in the rest frame. Plot it together with the numerial results that you obtained above. ***INCLUDE THIS PLOT and an explanation of how you found the analytical form in your debugging report*** "
   ]
  },
  {
   "cell_type": "code",
   "execution_count": null,
   "id": "d28176bf",
   "metadata": {
    "collapsed": true
   },
   "outputs": [],
   "source": [
    "Ean_pi = theta_rf_pi\n",
    "Ean_K = theta_rf_K\n",
    "\n",
    "plt.scatter(theta_rf_pi,energy_nu_lf_pi,label='data')\n",
    "plt.plot(theta_rf_pi, Ean_pi,'r.',label='analytic')\n",
    "plt.xlabel('theta_rf')\n",
    "plt.ylabel('Energy (GeV)')\n",
    "plt.title('neutrino energy in lf (1GeV-pion decay)')\n",
    "plt.legend()\n",
    "plt.show()\n",
    "\n",
    "plt.scatter(theta_rf_K,energy_nu_lf_K, label='data')\n",
    "plt.plot(theta_rf_K,Ean_K,'r.', label='analytic')\n",
    "plt.xlabel('theta_rf')\n",
    "plt.ylabel('Energy (GeV)')\n",
    "plt.title('neutrino energy in lf (1GeV-kaon decay)')\n",
    "plt.legend()\n",
    "plt.show()"
   ]
  },
  {
   "cell_type": "markdown",
   "id": "aff32cc2",
   "metadata": {},
   "source": [
    "### 3.1(c) Create plots for both decays of the histograms of Enu_lf.  Can you explain why the plots have the shape they do? If you can, ***include this in your debugging report***."
   ]
  },
  {
   "cell_type": "code",
   "execution_count": 258,
   "id": "1b41ce7c",
   "metadata": {
    "collapsed": true
   },
   "outputs": [],
   "source": [
    "Nbins=100\n",
    "\n",
    "(Nb_pi,binsb_pi,bbb_pi)=plt.hist(energy_nu_lf_pi, bins = Nbins)\n",
    "\n",
    "plt.ylabel('N')\n",
    "plt.xlabel('energy (MeV)')\n",
    "plt.title('Neutrino energy in lf (1GeV-pion decay)')\n",
    "plt.show()\n",
    "\n",
    "(Nb_K,binsb_K,bbb_K)=plt.hist(energy_nu_lf_K, bins = Nbins)\n",
    "\n",
    "plt.ylabel('N')\n",
    "plt.xlabel('energy (MeV)')\n",
    "plt.grid()\n",
    "plt.title('Neutrino energy in lf (1GeV-kaon decay)')\n",
    "plt.show()"
   ]
  },
  {
   "cell_type": "markdown",
   "id": "1b208ba6",
   "metadata": {},
   "source": [
    "### 3.1(d) Create plots for both decays of the histograms of the angular distribution in the lab frame of the number of neutrinos. Remark: use a log-scale for the y-axis, for clarity. "
   ]
  },
  {
   "cell_type": "code",
   "execution_count": null,
   "id": "7d1c3e1f",
   "metadata": {
    "collapsed": true
   },
   "outputs": [],
   "source": [
    "#extract theta_lf from the momentum in the lab-frame\n",
    "\n",
    "b4_lf_pi=boosted4mtmar(m4_rf_pi,beta_v_pi)\n",
    "theta_lf_pi=np.arctan2(np.sqrt(b4_lf_pi[1]**2+b4_lf_pi[2]**2),b4_lf_pi[3])\n",
    "\n",
    "b4_lf_K=boosted4mtmar(m4_rf_K,beta_v_K)\n",
    "theta_lf_K=np.arctan2(np.sqrt(b4_lf_K[1]**2+b4_lf_K[2]**2),b4_lf_K[3])\n",
    "\n",
    "plt.hist(theta_lf_pi, bins = 100, log=True)\n",
    "plt.ylabel('N')\n",
    "plt.xlabel('theta(lf)')\n",
    "plt.title('Neutrino angular distribution in lf (1GeV-pion decay)')\n",
    "plt.show()\n",
    "\n",
    "plt.hist(theta_lf_K, bins = 100, log=True)\n",
    "plt.ylabel('N')\n",
    "plt.xlabel('theta (lf)')\n",
    "plt.title('Neutrino angular distribution in lf (1GeV-kaon decay)')\n",
    "plt.show()"
   ]
  },
  {
   "cell_type": "markdown",
   "id": "e5bf63da",
   "metadata": {},
   "source": [
    "### 3.2 In this final part, you'll create a histogram plot of the distribution of energies of the product neutrinos in the lab frame. Start by assuming that the momenta of the $\\pi$ and $K$ beams follow the log-normal distribution, and that there are 10$\\times$ more $\\pi$ decays than $K$ decays in the beam. **Note**: you can assume that the code between the === in the cell below has been checked carefully and does not contain any errors\n"
   ]
  },
  {
   "cell_type": "code",
   "execution_count": null,
   "id": "1113c819",
   "metadata": {
    "collapsed": true
   },
   "outputs": [],
   "source": [
    "#================\n",
    "def prob_distrib(x, mu=0, sigma=1):\n",
    "    \"\"\"\n",
    "    Log normal PDF, depends on parameters mu and sigma, which are analogous to the \n",
    "    mu and sigma parameters of the Gaussian distribution\n",
    "    \"\"\"\n",
    "    if type(x) != np.ndarray:\n",
    "        if x <=0 :\n",
    "            return 0\n",
    "        else:\n",
    "            return np.exp(- 0.5 * ((np.log(x) - mu) / sigma)**2) / (x * sigma * np.sqrt(2 * np.pi))\n",
    "    else:\n",
    "        x[x<=0] = 1e-40 #replace zero or negative values with \n",
    "        return np.exp(- 0.5 * ((np.log(x) - mu) / sigma)**2) / (x * sigma * np.sqrt(2 * np.pi))\n",
    "\n",
    "def max_prob(mu=0, sigma=1):\n",
    "    \"\"\"\n",
    "    Returns the mode (the value with the highest probability of occurring) of the log-normal distribution\n",
    "    \"\"\"\n",
    "    return np.exp(mu - sigma**2)\n",
    "\n",
    "def generate_array(x_min, x_max, mu=0, sigma=1, Narray=5000):\n",
    "    \"\"\"\n",
    "    This function yields an array of values of x in the interval [x_min; x_max] distributed according\n",
    "    to a log-normal distribution as defined in log_normal(x, mu, sigma)\n",
    "    The array is of length Narray\n",
    "    \"\"\"\n",
    "    pxvals=[]\n",
    "    ymax = prob_distrib(max_prob(mu, sigma), mu, sigma) #maximum probability\n",
    "    lenout=0\n",
    "    Nchunk=Narray\n",
    "    while lenout<Narray:\n",
    "        px = (x_max - x_min) * np.random.rand(Nchunk) + x_min\n",
    "        py = np.random.rand(Nchunk) * ymax # probability between 0 and the maximum.\n",
    "        lognormx=prob_distrib(px*1e-3, mu, sigma) # probability for random value in [x_min and x_max]\n",
    "        pxvals=np.append(pxvals, px[lognormx>py])\n",
    "        lenout=len(pxvals)\n",
    "    return pxvals[:Narray]\n",
    "\n",
    "\n",
    "\n",
    "# use these values of sigma and mu throughout\n",
    "sigma_pi = 0.375\n",
    "sigma_K  = 0.5 \n",
    "mu       = 0.25\n",
    "\n",
    "# min and max values for energy\n",
    "E_min = 0. #MeV\n",
    "E_max = 6000. #MeV\n",
    "\n",
    "#================\n",
    "# The following code shows how to use the three functions defined above to generate a momentum distribution. \n",
    "# Note that the E_min and E_max inputs for generate_array are in MeV and the output is in units of MeV/c\n",
    "\n",
    "#the function takes an input argument n_samples: the number of values you want to generate in each call\n",
    "n_samples = 5000\n",
    "\n",
    "#distribution of momentum values for pi decay\n",
    "mtm_distrib_E_pi=generate_array(E_min, E_max, mu, sigma_pi, n_samples)\n",
    "\n",
    "#distribution of momentum values for K decay \n",
    "mtm_distrib_E_K=generate_array(E_min, E_max, mu, sigma_K, n_samples)\n",
    "   \n",
    "plt.plot(mtm_distrib_E_pi,'.')\n",
    "plt.xlabel('index')\n",
    "plt.ylabel('p_pi (MeV/c)')\n",
    "plt.show()\n",
    "plt.close()\n",
    "\n",
    "plt.hist(mtm_distrib_E_pi, bins = 100)\n",
    "plt.xlabel('p_pi (MeV/c)')\n",
    "plt.ylabel('N')\n",
    "plt.title('Momentum distribution of pi particles')\n",
    "plt.show()"
   ]
  },
  {
   "cell_type": "markdown",
   "id": "7a62fac7",
   "metadata": {},
   "source": [
    "### 3.3(a) In part 3.1 you generated a distribution of neutrino energies in the lab frame assuming a constant parent particle energy.  Repeat this here to plot the histogram of the energies of the product neutrinos, this time for each decay event drawing the energy of the parent particles from the distribution you have just calculated, as well as drawing $\\theta$ from the random distribution you used before. "
   ]
  },
  {
   "cell_type": "code",
   "execution_count": null,
   "id": "4aac9228",
   "metadata": {
    "collapsed": true
   },
   "outputs": [],
   "source": [
    "#generate distribution of parent-particle energies\n",
    "Nrun_pi = 100000\n",
    "Nrun_K = 10000\n",
    "\n",
    "#pi particles :\n",
    "EA_pi=np.sqrt(mpi**2+mtm_distrib_E_pi**2)\n",
    "#find corresponding gamma and beta\n",
    "gamma_v_pi=EA_pi/mpi\n",
    "beta_v_pi=-np.sqrt(1-1/(gamma_v_pi**2)) #beta of lab frame wrt rest frame\n",
    "\n",
    "#K particles:\n",
    "EA_K=np.sqrt(mK**2+mtm_distrib_E_K**2)\n",
    "#find corresponding gamma and beta\n",
    "gamma_v_K=EA_K/mK  \n",
    "beta_v_K=-np.sqrt(1-1/(gamma_v_K**2)) #beta of lab frame wrt rest frame\n",
    "\n",
    "#theta distribution\n",
    "theta_rf_pi=generate_theta_array(Nrun_pi)\n",
    "theta_rf_K=generate_theta_array(Nrun_K)\n",
    "\n",
    "#in principle we should also choose phi randomly, although\n",
    "#in fact the value of phi doesn't matter because of the symmetry of the problem around the z-axis\n",
    "phi_rf_pi = 2*np.pi * np.random.rand(Nrun_pi)\n",
    "phi_rf_K = 2*np.pi * np.random.rand(Nrun_K)\n",
    "\n",
    "#calculate for pi decays first:\n",
    "#find neutrino energy in rest frame\n",
    "energy_nu_rf_pi=findEProd_rf(mpi,mmu,mnu) #particle C in rest frame indpt of angle theta_rf\n",
    "#find neutrino 3-momentum in rest frame\n",
    "p_rf_pi_ar=find3mtmC_rf(mpi,mmu,mnu,theta_rf_pi, phi_rf_pi) #particle C (nu) in rest frame    \n",
    "#find neutrino 4-momentum in rest frame:\n",
    "m4nu_rf_pi=find4mtmar(energy_nu_rf_pi,p_rf_pi_ar)\n",
    "\n",
    "#find neutrino energy in lab frame:\n",
    "energy_nu_lf_pi=boosted4mtmar(m4nu_rf_pi, beta_v_pi)[0]\n",
    "    \n",
    "#K decays\n",
    "#find neutrino energy in rest frame\n",
    "energy_nu_rf_K=findEProd_rf(mK,mmu,mnu) #particle C in rest frame indpt of angle theta_rf\n",
    "#find neutrino 3-momentum in rest frame\n",
    "p_rf_K_ar=find3mtmC_rf(mK,mmu,mnu,theta_rf_K,phi_rf_K) #particle C (nu) in rest frame    \n",
    "#find neutrino 4-momentum in rest frame:\n",
    "m4nu_rf_K=find4mtmar(energy_nu_rf_K,p_rf_K_ar)\n",
    "  \n",
    "#find neutrino energy in lab frame:\n",
    "energy_nu_lf_K=boosted4mtmar(m4nu_rf_K,beta_v_K)[0]"
   ]
  },
  {
   "cell_type": "code",
   "execution_count": null,
   "id": "ca012410",
   "metadata": {
    "collapsed": true
   },
   "outputs": [],
   "source": [
    "#@c3.3a#@ #&2\n",
    "#generate distribution of parent-particle energies\n",
    "Nrun_pi = 100000\n",
    "Nrun_K = 10000\n",
    "\n",
    "#pi particles :\n",
    "EA_pi=np.sqrt(mpi**2+mtm_distrib_E_pi**2)\n",
    "#find corresponding gamma and beta\n",
    "gamma_v_pi=EA_pi/mpi\n",
    "beta_v_pi=-np.sqrt(1-1/(gamma_v_pi**2)) #beta of lab frame wrt rest frame\n",
    "\n",
    "#K particles:\n",
    "EA_K=np.sqrt(mK**2+mtm_distrib_E_K**2)\n",
    "#find corresponding gamma and beta\n",
    "gamma_v_K=EA_K/mK  \n",
    "beta_v_K=-np.sqrt(1-1/(gamma_v_K**2)) #beta of lab frame wrt rest frame\n",
    "\n",
    "#theta distribution\n",
    "theta_rf_pi=generate_theta_array(Nrun_pi)\n",
    "theta_rf_K=generate_theta_array(Nrun_K)\n",
    "\n",
    "#in principle we should also choose phi randomly, although\n",
    "#in fact the value of phi doesn't matter because of the symmetry of the problem around the z-axis\n",
    "phi_rf_pi = 2*np.pi * np.random.rand(Nrun_pi)\n",
    "phi_rf_K = 2*np.pi * np.random.rand(Nrun_K)\n",
    "\n",
    "#calculate for pi decays first:\n",
    "#find neutrino energy in rest frame\n",
    "energy_nu_rf_pi=findEProd_rf(mpi,mmu,mnu) #particle C in rest frame indpt of angle theta_rf\n",
    "#find neutrino 3-momentum in rest frame\n",
    "p_rf_pi_ar=find3mtmC_rf(mpi,mmu,mnu,theta_rf_pi, phi_rf_pi) #particle C (nu) in rest frame    \n",
    "#find neutrino 4-momentum in rest frame:\n",
    "m4nu_rf_pi=find4mtmar(energy_nu_rf_pi,p_rf_pi_ar)\n",
    "\n",
    "#find neutrino energy in lab frame:\n",
    "energy_nu_lf_pi=gamma_v_pi*energy_nu_rf_pi-beta_v_pi*gamma_v_pi*p_rf_pi_ar[3,:]\n",
    "    \n",
    "#K decays\n",
    "#find neutrino energy in rest frame\n",
    "energy_nu_rf_K=findEProd_rf(mK,mmu,mnu) #particle C in rest frame indpt of angle theta_rf\n",
    "#find neutrino 3-momentum in rest frame\n",
    "p_rf_K_ar=find3mtmC_rf(mK,mmu,mnu,theta_rf_K,phi_rf_K) #particle C (nu) in rest frame    \n",
    "#find neutrino 4-momentum in rest frame:\n",
    "m4nu_rf_K=find4mtmar(energy_nu_rf_K,p_rf_K_ar)\n",
    "  \n",
    "#find neutrino energy in lab frame:\n",
    "energy_nu_lf_K=boosted4mtmar(m4nu_rf_K,beta_v_K)[0]"
   ]
  },
  {
   "cell_type": "markdown",
   "id": "dd0ff309",
   "metadata": {},
   "source": [
    "REMARK[1]: energy_nu_lf_pi - trying to look up 4th element of a 3-vector - actually need 3rd element!\n",
    "\n",
    "Note that the N values in the first few cells are unused and those defined in 3.2 are the ones really used"
   ]
  },
  {
   "cell_type": "markdown",
   "id": "3c662a5f",
   "metadata": {},
   "source": [
    "### 3.3(b) Now plot, on a single histogram, the energy distribution in the lab frame:\n",
    "- for the $\\pi$ decays only\n",
    "- for K decays only and \n",
    "- for both decays.  \n",
    "\n",
    "Use a log scale for the energy. ***INCLUDE THIS PLOT IN YOUR DEBUGGING REPORT***"
   ]
  },
  {
   "cell_type": "code",
   "execution_count": 9,
   "id": "3ce268e8",
   "metadata": {},
   "outputs": [],
   "source": [
    "#combine arrays to get neutrino energies from all decays    \n",
    "energy_nu_lf=np.append(energy_nu_lf_pi,energy_nu_lf_K)\n",
    "range_energy=[min(energy_nu_lf),max(energy_nu_lf)]\n",
    "\n",
    "plt.figure()\n",
    "\n",
    "Nevents,bins,patches=plt.hist(energy_nu_lf, bins = 100, range=range_energy, log=True, color='c')\n",
    "plt.hist(energy_nu_lf_pi, bins=100, range=range_energy, log=True, histtype='step', linewidth=2, label='pi')\n",
    "plt.hist(energy_nu_lf_K, bins=100, range=range_energy, log=True, histtype='step', linewidth=2, label='K')\n",
    "\n",
    "plt.xlabel('Energy (GeV)')\n",
    "plt.ylabel('N events')\n",
    "plt.title('Distribution of neutrino energies in lab frame')\n",
    "plt.legend()\n",
    "plt.show()"
   ]
  },
  {
   "cell_type": "markdown",
   "id": "0154eedc",
   "metadata": {},
   "source": [
    "### Of course, in a real experiment you would measure events from both types of decay together and would have to try to differentiate afterwards. In 3.3(c) and (d), consider the following two quantities which might be useful for to differentiating the $\\pi$ neutrinos and the K neutrinos. Plot the distribution of these for the decay events of the two decays which you've been considering.\n",
    "#### 3.3(c) The value of $\\theta_{lf}$ for the neutrino"
   ]
  },
  {
   "cell_type": "code",
   "execution_count": null,
   "id": "05db9cd2",
   "metadata": {
    "collapsed": true
   },
   "outputs": [],
   "source": [
    "b4_lf_pi=boosted4mtmar(m4nu_rf_pi,beta_v_pi)\n",
    "theta_lf_pi=np.arctan2(b4_lf_pi[2],b4_lf_pi[1])\n",
    "\n",
    "b4_lf_K=boosted4mtmar(m4nu_rf_K,beta_v_K)\n",
    "theta_lf_K=np.arctan2(b4_lf_K[2],b4_lf_K[1])\n",
    "\n",
    "#combine arrays to get neutrino energies from all decays    \n",
    "theta_nu_lf=np.append(theta_lf_pi,theta_lf_K)\n",
    "range_theta=[min(theta_nu_lf),max(theta_nu_lf)]\n",
    "\n",
    "plt.figure()\n",
    "Nevents,bins,patches=plt.hist(theta_nu_lf, bins = 100, range=[0,6], log=True, color='c')\n",
    "plt.hist(theta_lf_pi, bins=100, range=[0,6], log=True, histtype='step', linewidth=2, label='pi')\n",
    "plt.hist(theta_lf_K, bins=100, range=[0,6], log=True, histtype='step', linewidth=2, label='K')\n",
    "\n",
    "plt.ylim([1e0,1e5])\n",
    "plt.xlim([0,np.pi])\n",
    "plt.xlabel('theta(lf)')\n",
    "plt.ylabel('N events')\n",
    "plt.legend()\n",
    "plt.title('Angular distribution of neutrinos in lab frame')\n",
    "plt.show()"
   ]
  },
  {
   "cell_type": "markdown",
   "id": "a0067c71",
   "metadata": {},
   "source": [
    "#### 3.3(d) The energy of the neutrino at a particular $\\theta_{lf}$. Use a log-scale to represent the energies."
   ]
  },
  {
   "cell_type": "code",
   "execution_count": 285,
   "id": "a0f49d0e",
   "metadata": {
    "collapsed": true
   },
   "outputs": [],
   "source": [
    "plt.semilogy(theta_lf_pi, energy_nu_lf_pi,'.',label='pion')\n",
    "plt.semilogy(theta_lf_K, energy_nu_lf_K,'.',label='kaon')\n",
    "\n",
    "plt.ylabel('energy (GeV)')\n",
    "plt.xlabel('theta (lf)')\n",
    "plt.title('Neutrino angular distribution in lf (1GeV parent)')\n",
    "plt.legend()\n",
    "plt.show()"
   ]
  },
  {
   "cell_type": "markdown",
   "id": "8e06f569",
   "metadata": {
    "collapsed": true
   },
   "source": [
    "### 3.3(e) What conclusion can you draw from 3.3(c) and 3.3(d) about whether you can infer the parent particle type (pi or K) from a detected neutrino from either or both of 3.3(c) and 3.3(d). ***INCLUDE YOUR CONCLUSION AND YOUR REASONING IN YOUR DEBUGGING REPORT. *** "
   ]
  }
 ],
 "metadata": {
  "kernelspec": {
   "display_name": "Python 3 (ipykernel)",
   "language": "python",
   "name": "python3"
  },
  "language_info": {
   "codemirror_mode": {
    "name": "ipython",
    "version": 3
   },
   "file_extension": ".py",
   "mimetype": "text/x-python",
   "name": "python",
   "nbconvert_exporter": "python",
   "pygments_lexer": "ipython3",
   "version": "3.10.9"
  }
 },
 "nbformat": 4,
 "nbformat_minor": 5
}
