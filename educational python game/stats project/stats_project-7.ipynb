{
 "cells": [
  {
   "cell_type": "code",
   "execution_count": 2,
   "id": "f4911862-ea12-45d3-8be1-e0d6dcee0bcc",
   "metadata": {},
   "outputs": [],
   "source": [
    "import numpy as np\n",
    "import matplotlib.pyplot as plt\n",
    "import STOM_higgs_tools\n",
    "from tqdm.notebook import tqdm\n",
    "from mpl_toolkits.mplot3d import Axes3D\n",
    "from scipy.optimize import curve_fit\n",
    "from scipy.stats import chi2"
   ]
  },
  {
   "cell_type": "markdown",
   "id": "c4ccf9b5-7eff-433f-8954-c924dd4ea448",
   "metadata": {},
   "source": [
    "**Section 1** : Generating Data Points"
   ]
  },
  {
   "cell_type": "code",
   "execution_count": 3,
   "id": "e2c923e7-5ae4-416f-b055-cd49f3937f75",
   "metadata": {
    "scrolled": true
   },
   "outputs": [
    {
     "data": {
      "image/png": "[encoded data removed]",
      "text/plain": [
       "<Figure size 640x480 with 1 Axes>"
      ]
     },
     "metadata": {},
     "output_type": "display_data"
    }
   ],
   "source": [
    "vals = STOM_higgs_tools.generate_data()\n",
    "nbins=30\n",
    "mass_range=[104,155]\n",
    "\n",
    "bin_heights, bin_edges, patches = plt.hist(vals, range = mass_range, bins = nbins,color='pink')\n",
    "bin_centre = bin_edges+0.5*(bin_edges[1]-bin_edges[0])\n",
    "plt.errorbar(bin_centre[0:30],bin_heights,yerr=np.sqrt(bin_heights),capsize=2,fmt='x',ms=2,ecolor='black')\n",
    "plt.show() "
   ]
  },
  {
   "cell_type": "markdown",
   "id": "7d05d047",
   "metadata": {},
   "source": [
    "**Section 2a**: Max likelihood method"
   ]
  },
  {
   "cell_type": "markdown",
   "id": "38279797-4906-45f2-ab8f-42a723083a69",
   "metadata": {},
   "source": [
    "**Section 2b**: $\\chi^2$ Minimisation"
   ]
  },
  {
   "cell_type": "markdown",
   "id": "3ea74dc7",
   "metadata": {},
   "source": [
    "Create a range of A and lambda values. For each value of A (`A[i]`), cycle through every lambda value (`lamb[j]`), and calculate the chi-squared values. Check if chi-squared value is less than previous chi-squared values, if so, set these values of A and lambda as the optimum. \n",
    "\n",
    "Note that we only use the range `[104,120]` because we need to ignore the higgs boson bump. "
   ]
  },
  {
   "cell_type": "code",
   "execution_count": 4,
   "id": "f2d8d992",
   "metadata": {},
   "outputs": [
    {
     "data": {
      "application/vnd.jupyter.widget-view+json": {
       "model_id": "8d6496084aea413aade5464724ab5f29",
       "version_major": 2,
       "version_minor": 0
      },
      "text/plain": [
       "  0%|          | 0/80000 [00:00<?, ?it/s]"
      ]
     },
     "metadata": {},
     "output_type": "display_data"
    },
    {
     "name": "stdout",
     "output_type": "stream",
     "text": [
      "lambda = 29.435897435897434, A = 63846.153846153844, minimum chi=0.14939052747964926\n"
     ]
    }
   ],
   "source": [
    "L=40#number of A and lambda values to check\n",
    "A=np.linspace(5e4,7e4,L) #range of predicted A values\n",
    "lamb=np.linspace(27,32,L) #range of predicted lambda values\n",
    "simulations = 50\n",
    "pbar = tqdm(range(L**2*(simulations)))\n",
    "chi_list_b=[1e6] #placeholder\n",
    "mass_range_b=[104,120]\n",
    "nbins_reduced=9\n",
    "for k in range(simulations):\n",
    "    vals = STOM_higgs_tools.generate_data()\n",
    "    for i in range(L):\n",
    "        for j in range(L):\n",
    "            chi=STOM_higgs_tools.get_B_chi(vals,mass_range_b,nbins_reduced,A[i],lamb[j])\n",
    "            if chi < np.min(chi_list_b):\n",
    "                chi_min_b=chi\n",
    "                lamb_opt_b=lamb[j]\n",
    "                A_opt_b=A[i]\n",
    "                vals_opt=vals\n",
    "            chi_list_b=np.append(chi_list_b,chi)\n",
    "            pbar.update(1)\n",
    "print(f'lambda = {lamb_opt_b}, A = {A_opt_b}, minimum chi={chi_min_b}')\n",
    "vals=vals_opt"
   ]
  },
  {
   "cell_type": "markdown",
   "id": "b25b2cc5",
   "metadata": {},
   "source": [
    "**Section 3:** Goodness of fit"
   ]
  },
  {
   "cell_type": "markdown",
   "id": "21e35df3",
   "metadata": {},
   "source": [
    "Find fit using optimised parameters:"
   ]
  },
  {
   "cell_type": "code",
   "execution_count": 32,
   "id": "292d56c4-3892-4132-92c8-53eccf8e9416",
   "metadata": {
    "scrolled": true
   },
   "outputs": [
    {
     "data": {
      "image/png": "[encoded data removed]",
      "text/plain": [
       "<Figure size 432x288 with 1 Axes>"
      ]
     },
     "metadata": {
      "needs_background": "light"
     },
     "output_type": "display_data"
    }
   ],
   "source": [
    "x=np.linspace(100,160,10000)\n",
    "y=STOM_higgs_tools.get_B_expectation(x,A_opt_b,lamb_opt_b)\n",
    "plt.plot(x,y)\n",
    "bin_heights, bin_edges, patches = plt.hist(vals, range = mass_range, bins = nbins)\n",
    "plt.show() "
   ]
  },
  {
   "cell_type": "markdown",
   "id": "1b4cd891",
   "metadata": {},
   "source": [
    "**Section 4a**: "
   ]
  },
  {
   "cell_type": "markdown",
   "id": "76fb8af5",
   "metadata": {},
   "source": [
    "Chi-squared value for the *entire* range. Should be less than degrees of freedom `nbins-2`: i.e. 28\n",
    "\n",
    "**Note** Remember to multiply outputted value by 28: because the function automatically divides by 28 :( :( :( "
   ]
  },
  {
   "cell_type": "code",
   "execution_count": 33,
   "id": "19174d20-2e37-4563-9caf-39a29e66e0c8",
   "metadata": {
    "scrolled": true
   },
   "outputs": [
    {
     "name": "stdout",
     "output_type": "stream",
     "text": [
      "133.64304578024618\n"
     ]
    }
   ],
   "source": [
    "chi_total = STOM_higgs_tools.get_B_chi(vals,[104,155],30,A_opt_b,lamb_opt_b)\n",
    "print(chi_total*28)"
   ]
  },
  {
   "cell_type": "markdown",
   "id": "beba16f8",
   "metadata": {},
   "source": [
    "**Section 4b**: Finding mean $\\chi^2$ value over many signal generations (background only)"
   ]
  },
  {
   "cell_type": "code",
   "execution_count": 43,
   "id": "03b37996",
   "metadata": {},
   "outputs": [
    {
     "data": {
      "application/vnd.jupyter.widget-view+json": {
       "model_id": "7f63c345d6e4419b8a19ead826902ac0",
       "version_major": 2,
       "version_minor": 0
      },
      "text/plain": [
       "  0%|          | 0/100 [00:00<?, ?it/s]"
      ]
     },
     "metadata": {},
     "output_type": "display_data"
    },
    {
     "name": "stdout",
     "output_type": "stream",
     "text": [
      "4.908477465784456\n"
     ]
    },
    {
     "data": {
      "image/png": "[encoded data removed]",
      "text/plain": [
       "<Figure size 432x288 with 1 Axes>"
      ]
     },
     "metadata": {
      "needs_background": "light"
     },
     "output_type": "display_data"
    }
   ],
   "source": [
    "A_opt = A_opt_b\n",
    "lamb_opt = lamb_opt_b\n",
    "\n",
    "simulations = 100\n",
    "\n",
    "chi_list = []\n",
    "\n",
    "pbar = tqdm(range(simulations))\n",
    "for i in range(simulations):\n",
    "    vals=STOM_higgs_tools.generate_data()\n",
    "    nbins=30\n",
    "    mass_range =[104,155]\n",
    "    chi=STOM_higgs_tools.get_B_chi(vals,mass_range,nbins,A_opt,lamb_opt)\n",
    "    chi_list=np.append(chi_list,chi)\n",
    "    pbar.update(1)\n",
    "\n",
    "chi_range=[0,10]\n",
    "chi_bins = 20\n",
    "bin_heights, bin_edges, patches = plt.hist(chi_list, range = [0,10], bins = chi_bins)\n",
    "\n",
    "half_bin_width = 0.5*(bin_edges[1] - bin_edges[0])\n",
    "fit,cov = curve_fit(STOM_higgs_tools.signal_gaus, bin_edges[0:20]+half_bin_width, bin_heights)\n",
    "x=np.linspace(bin_edges[0],bin_edges[-1:],1000)\n",
    "y=STOM_higgs_tools.signal_gaus(x,*fit)\n",
    "plt.plot(x,y)\n",
    "\n",
    "mean_chi = fit[0]\n",
    "print(mean_chi)"
   ]
  },
  {
   "cell_type": "markdown",
   "id": "b25a606d",
   "metadata": {},
   "source": [
    "**Section 4c:** Finding mean $\\chi^2$ value with various signal amplitudes"
   ]
  },
  {
   "cell_type": "code",
   "execution_count": null,
   "id": "3b3ec697",
   "metadata": {},
   "outputs": [],
   "source": []
  },
  {
   "cell_type": "markdown",
   "id": "46b3e243",
   "metadata": {},
   "source": [
    "**Section 5a**: Signal Estimation using background parameterisation"
   ]
  },
  {
   "cell_type": "markdown",
   "id": "d0b28436",
   "metadata": {},
   "source": [
    "Overlaying the signal"
   ]
  },
  {
   "cell_type": "code",
   "execution_count": 11,
   "id": "496d959a",
   "metadata": {
    "scrolled": false
   },
   "outputs": [
    {
     "data": {
      "image/png": "[encoded data removed]",
      "text/plain": [
       "<Figure size 640x480 with 1 Axes>"
      ]
     },
     "metadata": {},
     "output_type": "display_data"
    }
   ],
   "source": [
    "A_opt= A_opt_b\n",
    "lamb_opt= lamb_opt_b\n",
    "mass_range=[104,155]\n",
    "\n",
    "bin_heights, bin_edges, patches = plt.hist(vals, range = mass_range, bins = 30)\n",
    "\n",
    "signal_mean = 125 \n",
    "signal_sig = 1.5\n",
    "signal_amp = 700\n",
    "\n",
    "x=np.linspace(104,155,10000)\n",
    "y=STOM_higgs_tools.get_SB_expectation(x,A_opt,lamb_opt,signal_mean,signal_sig,signal_amp)\n",
    "plt.plot(x,y)\n",
    "plt.show() "
   ]
  },
  {
   "cell_type": "markdown",
   "id": "cc21a93c",
   "metadata": {},
   "source": [
    "Finding $\\chi^2$"
   ]
  },
  {
   "cell_type": "code",
   "execution_count": 12,
   "id": "e9834e19",
   "metadata": {},
   "outputs": [
    {
     "name": "stdout",
     "output_type": "stream",
     "text": [
      "chi value is: 66.39936320849598\n",
      "p-value: 1.2994488532203086e-05\n",
      "acceptance range 0.0012994488532203086 %\n"
     ]
    }
   ],
   "source": [
    "half_bin_width = 0.5*(bin_edges[1] - bin_edges[0])\n",
    "#recalculate ys_expected, but using half-bin widths\n",
    "ys_expected = STOM_higgs_tools.get_SB_expectation(bin_edges+half_bin_width, A_opt, lamb_opt, signal_mean, signal_sig, signal_amp)\n",
    "chi = 0\n",
    "\n",
    "for i in range( len(bin_heights) ):\n",
    "    chi_nominator = (bin_heights[i] - ys_expected[i])**2\n",
    "    chi_denominator = ys_expected[i]\n",
    "    chi += chi_nominator / chi_denominator\n",
    "\n",
    "print('chi value is:',chi)\n",
    "def calculate_p_value(chi_squared, sample_size):\n",
    "    degrees_of_freedom = sample_size - 5\n",
    "    p_value = 1 - chi2.cdf(chi_squared, degrees_of_freedom)\n",
    "    return p_value\n",
    "\n",
    "# Example usage\n",
    "chi_squared_value = chi\n",
    "sample_size = 30 \n",
    "\n",
    "p_value = calculate_p_value(chi_squared_value, sample_size)\n",
    "print(\"p-value:\", p_value)\n",
    "print('acceptance range', p_value*100,'%')\n"
   ]
  },
  {
   "cell_type": "markdown",
   "id": "45d0867e",
   "metadata": {},
   "source": [
    "Calculate p-value: we need this to be high. "
   ]
  },
  {
   "cell_type": "code",
   "execution_count": 8,
   "id": "ca74acbf",
   "metadata": {},
   "outputs": [
    {
     "ename": "NameError",
     "evalue": "name 'chi_mean' is not defined",
     "output_type": "error",
     "traceback": [
      "\u001b[0;31m---------------------------------------------------------------------------\u001b[0m",
      "\u001b[0;31mNameError\u001b[0m                                 Traceback (most recent call last)",
      "Cell \u001b[0;32mIn[8], line 8\u001b[0m\n\u001b[1;32m      5\u001b[0m     p_value \u001b[38;5;241m=\u001b[39m \u001b[38;5;241m1\u001b[39m \u001b[38;5;241m-\u001b[39m chi2\u001b[38;5;241m.\u001b[39mcdf(chi_squared, degrees_of_freedom)\n\u001b[1;32m      6\u001b[0m     \u001b[38;5;28;01mreturn\u001b[39;00m p_value\n\u001b[0;32m----> 8\u001b[0m chi_squared_value \u001b[38;5;241m=\u001b[39m \u001b[43mchi_mean\u001b[49m\n\u001b[1;32m      9\u001b[0m sample_size \u001b[38;5;241m=\u001b[39m \u001b[38;5;241m30\u001b[39m \n\u001b[1;32m     11\u001b[0m p_value \u001b[38;5;241m=\u001b[39m calculate_p_value(chi_squared_value, sample_size)\n",
      "\u001b[0;31mNameError\u001b[0m: name 'chi_mean' is not defined"
     ]
    }
   ],
   "source": [
    "from scipy.stats import chi2\n",
    "\n",
    "def calculate_p_value(chi_squared, sample_size):\n",
    "    degrees_of_freedom = sample_size - 5\n",
    "    p_value = 1 - chi2.cdf(chi_squared, degrees_of_freedom)\n",
    "    return p_value\n",
    "\n",
    "chi_squared_value = chi_mean\n",
    "sample_size = 30 \n",
    "\n",
    "p_value = calculate_p_value(chi_squared_value, sample_size)\n",
    "print(\"p-value:\", p_value)"
   ]
  },
  {
   "cell_type": "markdown",
   "id": "a6838085",
   "metadata": {},
   "source": [
    "**Section 5b:** Unknown Mass"
   ]
  }
 ],
 "metadata": {
  "kernelspec": {
   "display_name": "Python 3 (ipykernel)",
   "language": "python",
   "name": "python3"
  },
  "language_info": {
   "codemirror_mode": {
    "name": "ipython",
    "version": 3
   },
   "file_extension": ".py",
   "mimetype": "text/x-python",
   "name": "python",
   "nbconvert_exporter": "python",
   "pygments_lexer": "ipython3",
   "version": "3.10.9"
  }
 },
 "nbformat": 4,
 "nbformat_minor": 5
}
