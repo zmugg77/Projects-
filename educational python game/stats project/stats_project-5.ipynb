{
 "cells": [
  {
   "cell_type": "code",
   "execution_count": 85,
   "id": "f4911862-ea12-45d3-8be1-e0d6dcee0bcc",
   "metadata": {},
   "outputs": [
    {
     "ename": "ModuleNotFoundError",
     "evalue": "No module named 'scipy'",
     "output_type": "error",
     "traceback": [
      "\u001b[0;31m---------------------------------------------------------------------------\u001b[0m",
      "\u001b[0;31mModuleNotFoundError\u001b[0m                       Traceback (most recent call last)",
      "Cell \u001b[0;32mIn[85], line 6\u001b[0m\n\u001b[1;32m      4\u001b[0m \u001b[38;5;28;01mfrom\u001b[39;00m \u001b[38;5;21;01mtqdm\u001b[39;00m\u001b[38;5;21;01m.\u001b[39;00m\u001b[38;5;21;01mnotebook\u001b[39;00m \u001b[38;5;28;01mimport\u001b[39;00m tqdm\n\u001b[1;32m      5\u001b[0m \u001b[38;5;28;01mfrom\u001b[39;00m \u001b[38;5;21;01mmpl_toolkits\u001b[39;00m\u001b[38;5;21;01m.\u001b[39;00m\u001b[38;5;21;01mmplot3d\u001b[39;00m \u001b[38;5;28;01mimport\u001b[39;00m Axes3D\n\u001b[0;32m----> 6\u001b[0m \u001b[38;5;28;01mfrom\u001b[39;00m \u001b[38;5;21;01mscipy\u001b[39;00m\u001b[38;5;21;01m.\u001b[39;00m\u001b[38;5;21;01mstats\u001b[39;00m \u001b[38;5;28;01mimport\u001b[39;00m chi2\n",
      "\u001b[0;31mModuleNotFoundError\u001b[0m: No module named 'scipy'"
     ]
    }
   ],
   "source": [
    "\n",
    "import numpy as np\n",
    "import matplotlib.pyplot as plt\n",
    "import STOM_higgs_tools\n",
    "from tqdm.notebook import tqdm\n",
    "from mpl_toolkits.mplot3d import Axes3D\n",
    "\n"
   ]
  },
  {
   "cell_type": "markdown",
   "id": "c4ccf9b5-7eff-433f-8954-c924dd4ea448",
   "metadata": {},
   "source": [
    "**Section 1** : Generating Data Points"
   ]
  },
  {
   "cell_type": "code",
   "execution_count": 24,
   "id": "e2c923e7-5ae4-416f-b055-cd49f3937f75",
   "metadata": {
    "scrolled": false
   },
   "outputs": [
    {
     "data": {
      "image/png": "[encoded data removed]",
      "text/plain": [
       "<Figure size 640x480 with 1 Axes>"
      ]
     },
     "metadata": {},
     "output_type": "display_data"
    }
   ],
   "source": [
    "vals = STOM_higgs_tools.generate_data()\n",
    "nbins= 30\n",
    "mass_range=[104,155]\n",
    "bin_heights, bin_edges, patches = plt.hist(vals, range = mass_range, bins = nbins)\n",
    "plt.show() "
   ]
  },
  {
   "cell_type": "markdown",
   "id": "19acae71",
   "metadata": {},
   "source": [
    "**Statistical Uncertainties:** square root of the bins height\n"
   ]
  },
  {
   "cell_type": "markdown",
   "id": "7d05d047",
   "metadata": {},
   "source": [
    "**Section 2a**: Max likelihood method"
   ]
  },
  {
   "cell_type": "markdown",
   "id": "38279797-4906-45f2-ab8f-42a723083a69",
   "metadata": {},
   "source": [
    "**Section 2b**: $\\chi^2$ Minimisation"
   ]
  },
  {
   "cell_type": "markdown",
   "id": "3ea74dc7",
   "metadata": {},
   "source": [
    "Create a range of A and lambda values. For each value of A (`A[i]`), cycle through every lambda value (`lamb[j]`), and calculate the chi-squared values. Check if chi-squared value is less than previous chi-squared values, if so, set these values of A and lambda as the optimum. \n",
    "\n",
    "Note that we only use the range `[104,120]` because we need to ignore the higgs boson bump. "
   ]
  },
  {
   "cell_type": "code",
   "execution_count": 25,
   "id": "f2d8d992",
   "metadata": {
    "scrolled": true
   },
   "outputs": [
    {
     "data": {
      "application/vnd.jupyter.widget-view+json": {
       "model_id": "d8dc1e8a7b474c43a00e71945d356d6e",
       "version_major": 2,
       "version_minor": 0
      },
      "text/plain": [
       "  0%|          | 0/1600 [00:00<?, ?it/s]"
      ]
     },
     "metadata": {},
     "output_type": "display_data"
    },
    {
     "name": "stdout",
     "output_type": "stream",
     "text": [
      "lambda = 29.102564102564102, A = 66666.66666666666, minimum chi=2.9035162765393694\n"
     ]
    }
   ],
   "source": [
    "L=40#number of A and lambda values to check\n",
    "A=np.linspace(5e4,10e4,L) #range of predicted A values\n",
    "lamb=np.linspace(25,45,L) #range of predicted lambda values\n",
    "pbar = tqdm(range(L**2))\n",
    "chi_list_b=[1e6] #placeholder\n",
    "mass_range_b=[104,120]\n",
    "nbins_reduced=9\n",
    "for i in range(L):\n",
    "    for j in range(L):\n",
    "        chi=STOM_higgs_tools.get_B_chi(vals,mass_range_b,nbins_reduced,A[i],lamb[j])*7\n",
    "        if chi < np.min(chi_list_b):\n",
    "            chi_min_b=chi\n",
    "            lamb_opt_b=lamb[j]\n",
    "            A_opt_b=A[i]\n",
    "        chi_list_b=np.append(chi_list_b,chi)\n",
    "        pbar.update(1)\n",
    "print(f'lambda = {lamb_opt_b}, A = {A_opt_b}, minimum chi={chi_min_b}')"
   ]
  },
  {
   "cell_type": "code",
   "execution_count": 27,
   "id": "1e4b63df",
   "metadata": {},
   "outputs": [
    {
     "name": "stdout",
     "output_type": "stream",
     "text": [
      "117.45696703632576\n"
     ]
    }
   ],
   "source": [
    "chi_total = STOM_higgs_tools.get_B_chi(vals,[104,155],30,A_opt_b,lamb_opt_b)*28\n",
    "print(chi_total)"
   ]
  },
  {
   "cell_type": "code",
   "execution_count": 28,
   "id": "350ba6f4",
   "metadata": {},
   "outputs": [
    {
     "data": {
      "application/vnd.jupyter.widget-view+json": {
       "model_id": "8ea970c349994bb68f4e60bc3af85e5a",
       "version_major": 2,
       "version_minor": 0
      },
      "text/plain": [
       "  0%|          | 0/1600 [00:00<?, ?it/s]"
      ]
     },
     "metadata": {},
     "output_type": "display_data"
    },
    {
     "name": "stdout",
     "output_type": "stream",
     "text": [
      "lambda = 29.743589743589745, A = 59743.58974358974, minimum chi=107.63837648631558\n"
     ]
    }
   ],
   "source": [
    "L=40#number of A and lambda values to check\n",
    "A=np.linspace(5e4,7e4,L) #range of predicted A values\n",
    "lamb=np.linspace(20,40,L) #range of predicted lambda values\n",
    "pbar = tqdm(range(L**2))\n",
    "chi_list_s=[1e6] #placeholder\n",
    "mass_range_s=[104,155]\n",
    "nbins=30\n",
    "for i in range(L):\n",
    "    for j in range(L):\n",
    "        chi=STOM_higgs_tools.get_B_chi(vals,mass_range_s,nbins,A[i],lamb[j]) * (nbins - 2)\n",
    "        if chi < np.min(chi_list_s):\n",
    "            chi_min=chi\n",
    "            lamb_opt_s=lamb[j]\n",
    "            A_opt_s=A[i]\n",
    "        chi_list_s=np.append(chi_list_s,chi)\n",
    "        pbar.update(1)\n",
    "print(f'lambda = {lamb_opt_s}, A = {A_opt_s}, minimum chi={chi_min}')"
   ]
  },
  {
   "cell_type": "code",
   "execution_count": 29,
   "id": "105d7fcc",
   "metadata": {},
   "outputs": [
    {
     "name": "stdout",
     "output_type": "stream",
     "text": [
      "117.45696703632576\n"
     ]
    }
   ],
   "source": [
    "chi_total = STOM_higgs_tools.get_B_chi(vals,[104,155],30,A_opt_b,lamb_opt_b)*(nbins-2)\n",
    "print(chi_total)"
   ]
  },
  {
   "cell_type": "markdown",
   "id": "b25b2cc5",
   "metadata": {},
   "source": [
    "**Section 3:** Goodness of fit"
   ]
  },
  {
   "cell_type": "markdown",
   "id": "21e35df3",
   "metadata": {},
   "source": [
    "Find fit using optimised parameters:"
   ]
  },
  {
   "cell_type": "code",
   "execution_count": 30,
   "id": "292d56c4-3892-4132-92c8-53eccf8e9416",
   "metadata": {
    "scrolled": true
   },
   "outputs": [
    {
     "data": {
      "image/png": "[encoded data removed]",
      "text/plain": [
       "<Figure size 640x480 with 1 Axes>"
      ]
     },
     "metadata": {},
     "output_type": "display_data"
    }
   ],
   "source": [
    "x=np.linspace(100,160,10000)\n",
    "y=STOM_higgs_tools.get_B_expectation(x,A_opt_b,lamb_opt_b)\n",
    "plt.plot(x,y)\n",
    "bin_heights, bin_edges, patches = plt.hist(vals, range = mass_range, bins = nbins)\n",
    "plt.show() "
   ]
  },
  {
   "cell_type": "markdown",
   "id": "a760c6a9",
   "metadata": {},
   "source": [
    "Chi-squared value for the *entire* range. Should be less than degrees of freedom `nbins-2`"
   ]
  },
  {
   "cell_type": "code",
   "execution_count": 31,
   "id": "dc4a8ed6-e900-4543-a3d8-d3611690db8b",
   "metadata": {
    "scrolled": true
   },
   "outputs": [
    {
     "name": "stdout",
     "output_type": "stream",
     "text": [
      "117.45696703632576\n"
     ]
    }
   ],
   "source": [
    "chi_total = STOM_higgs_tools.get_B_chi(vals,[104,155],30,A_opt_b,lamb_opt_b)*(nbins -2)\n",
    "print(chi_total)"
   ]
  },
  {
   "cell_type": "markdown",
   "id": "1b4cd891",
   "metadata": {},
   "source": [
    "**Section 4a**: Running the same $\\chi^2$ minimisation, but *not* ignoring the Higgs signal. "
   ]
  },
  {
   "cell_type": "code",
   "execution_count": 18,
   "id": "19174d20-2e37-4563-9caf-39a29e66e0c8",
   "metadata": {
    "scrolled": true
   },
   "outputs": [
    {
     "data": {
      "application/vnd.jupyter.widget-view+json": {
       "model_id": "330d9ab8d0294e8ea9b9030ba5e84a40",
       "version_major": 2,
       "version_minor": 0
      },
      "text/plain": [
       "  0%|          | 0/1600 [00:00<?, ?it/s]"
      ]
     },
     "metadata": {},
     "output_type": "display_data"
    },
    {
     "name": "stdout",
     "output_type": "stream",
     "text": [
      "lambda = 24.102564102564102, A = 50000.0, minimum chi=537.279824870676\n"
     ]
    }
   ],
   "source": []
  },
  {
   "cell_type": "markdown",
   "id": "beba16f8",
   "metadata": {},
   "source": [
    "**Section 4b**: Finding mean $\\chi^2$ value over many signal generations (background only)"
   ]
  },
  {
   "cell_type": "code",
   "execution_count": 14,
   "id": "03b37996",
   "metadata": {},
   "outputs": [
    {
     "data": {
      "application/vnd.jupyter.widget-view+json": {
       "model_id": "537dbc8c366641fc9aacdc434379718c",
       "version_major": 2,
       "version_minor": 0
      },
      "text/plain": [
       "  0%|          | 0/10000 [00:00<?, ?it/s]"
      ]
     },
     "metadata": {},
     "output_type": "display_data"
    },
    {
     "ename": "KeyboardInterrupt",
     "evalue": "",
     "output_type": "error",
     "traceback": [
      "\u001b[0;31m---------------------------------------------------------------------------\u001b[0m",
      "\u001b[0;31mKeyboardInterrupt\u001b[0m                         Traceback (most recent call last)",
      "Cell \u001b[0;32mIn[14], line 10\u001b[0m\n\u001b[1;32m      8\u001b[0m pbar \u001b[38;5;241m=\u001b[39m tqdm(\u001b[38;5;28mrange\u001b[39m(simulations))\n\u001b[1;32m      9\u001b[0m \u001b[38;5;28;01mfor\u001b[39;00m i \u001b[38;5;129;01min\u001b[39;00m \u001b[38;5;28mrange\u001b[39m(simulations):\n\u001b[0;32m---> 10\u001b[0m     vals\u001b[38;5;241m=\u001b[39m\u001b[43mSTOM_higgs_tools\u001b[49m\u001b[38;5;241;43m.\u001b[39;49m\u001b[43mgenerate_data\u001b[49m\u001b[43m(\u001b[49m\u001b[43m)\u001b[49m\n\u001b[1;32m     11\u001b[0m     nbins\u001b[38;5;241m=\u001b[39m\u001b[38;5;241m30\u001b[39m\n\u001b[1;32m     12\u001b[0m     mass_range \u001b[38;5;241m=\u001b[39m[\u001b[38;5;241m104\u001b[39m,\u001b[38;5;241m155\u001b[39m]\n",
      "File \u001b[0;32m~/Downloads/STOM_higgs_tools.py:20\u001b[0m, in \u001b[0;36mgenerate_data\u001b[0;34m(n_signals)\u001b[0m\n\u001b[1;32m     18\u001b[0m vals \u001b[38;5;241m=\u001b[39m []\n\u001b[1;32m     19\u001b[0m vals \u001b[38;5;241m+\u001b[39m\u001b[38;5;241m=\u001b[39m generate_signal( n_signals, \u001b[38;5;241m125.\u001b[39m, \u001b[38;5;241m1.5\u001b[39m)\n\u001b[0;32m---> 20\u001b[0m vals \u001b[38;5;241m+\u001b[39m\u001b[38;5;241m=\u001b[39m \u001b[43mgenerate_background\u001b[49m\u001b[43m(\u001b[49m\u001b[43m \u001b[49m\u001b[43mN_b\u001b[49m\u001b[43m,\u001b[49m\u001b[43m \u001b[49m\u001b[43mb_tau\u001b[49m\u001b[43m)\u001b[49m\n\u001b[1;32m     21\u001b[0m \u001b[38;5;28;01mreturn\u001b[39;00m vals\n",
      "File \u001b[0;32m~/Downloads/STOM_higgs_tools.py:35\u001b[0m, in \u001b[0;36mgenerate_background\u001b[0;34m(N, tau)\u001b[0m\n\u001b[1;32m     31\u001b[0m \u001b[38;5;28;01mdef\u001b[39;00m \u001b[38;5;21mgenerate_background\u001b[39m(N, tau):\n\u001b[1;32m     32\u001b[0m \u001b[38;5;250m    \u001b[39m\u001b[38;5;124;03m''' \u001b[39;00m\n\u001b[1;32m     33\u001b[0m \u001b[38;5;124;03m    Generate N values according to an exp distribution.\u001b[39;00m\n\u001b[1;32m     34\u001b[0m \u001b[38;5;124;03m    '''\u001b[39;00m\n\u001b[0;32m---> 35\u001b[0m     \u001b[38;5;28;01mreturn\u001b[39;00m \u001b[43mnp\u001b[49m\u001b[38;5;241;43m.\u001b[39;49m\u001b[43mrandom\u001b[49m\u001b[38;5;241;43m.\u001b[39;49m\u001b[43mexponential\u001b[49m\u001b[43m(\u001b[49m\u001b[43mscale\u001b[49m\u001b[43m \u001b[49m\u001b[38;5;241;43m=\u001b[39;49m\u001b[43m \u001b[49m\u001b[43mtau\u001b[49m\u001b[43m,\u001b[49m\u001b[43m \u001b[49m\u001b[43msize\u001b[49m\u001b[43m \u001b[49m\u001b[38;5;241;43m=\u001b[39;49m\u001b[43m \u001b[49m\u001b[38;5;28;43mint\u001b[39;49m\u001b[43m(\u001b[49m\u001b[43mN\u001b[49m\u001b[43m)\u001b[49m\u001b[43m)\u001b[49m\u001b[38;5;241m.\u001b[39mtolist()\n",
      "\u001b[0;31mKeyboardInterrupt\u001b[0m: "
     ]
    }
   ],
   "source": [
    "A_opt = A_opt_b\n",
    "lamb_opt = lamb_opt_b\n",
    "\n",
    "simulations = 10000\n",
    "\n",
    "chi_list = []\n",
    "\n",
    "pbar = tqdm(range(simulations))\n",
    "for i in range(simulations):\n",
    "    vals=STOM_higgs_tools.generate_data()\n",
    "    nbins=30\n",
    "    mass_range =[104,155]\n",
    "    chi=STOM_higgs_tools.get_B_chi(vals,mass_range,nbins,A_opt,lamb_opt)\n",
    "    chi_list=np.append(chi_list,chi)\n",
    "    pbar.update(1)\n",
    "\n",
    "chi_range=[0,10]\n",
    "chi_bins = 20\n",
    "bin_heights, bin_edges, patches = plt.hist(chi_list, range = [0,10], bins = chi_bins)"
   ]
  },
  {
   "cell_type": "markdown",
   "id": "b25a606d",
   "metadata": {},
   "source": [
    "**Section 4c:** Finding mean $\\chi^2$ value with various signal amplitudes"
   ]
  },
  {
   "cell_type": "code",
   "execution_count": null,
   "id": "3b3ec697",
   "metadata": {},
   "outputs": [],
   "source": []
  },
  {
   "cell_type": "markdown",
   "id": "46b3e243",
   "metadata": {},
   "source": [
    "**Section 5a**: Signal Estimation using background parameterisation"
   ]
  },
  {
   "cell_type": "markdown",
   "id": "d0b28436",
   "metadata": {},
   "source": [
    "Overlaying the signal"
   ]
  },
  {
   "cell_type": "code",
   "execution_count": 36,
   "id": "496d959a",
   "metadata": {
    "scrolled": false
   },
   "outputs": [
    {
     "data": {
      "image/png": "[encoded data removed]",
      "text/plain": [
       "<Figure size 640x480 with 1 Axes>"
      ]
     },
     "metadata": {},
     "output_type": "display_data"
    }
   ],
   "source": [
    "A_opt= A_opt_b\n",
    "lamb_opt= lamb_opt_b\n",
    "mass_range=[104,155]\n",
    "nbins = 30\n",
    "\n",
    "bin_heights, bin_edges, patches = plt.hist(vals, range = mass_range,bins = nbins)\n",
    "\n",
    "signal_mean = 125 \n",
    "signal_sig = 1.5\n",
    "signal_amp = 700\n",
    "\n",
    "x=np.linspace(104,155,10000)\n",
    "y=STOM_higgs_tools.get_SB_expectation(x,A_opt,lamb_opt,signal_mean,signal_sig,signal_amp)\n",
    "plt.plot(x,y)\n",
    "plt.show() "
   ]
  },
  {
   "cell_type": "markdown",
   "id": "cc21a93c",
   "metadata": {},
   "source": [
    "Finding $\\chi^2$"
   ]
  },
  {
   "cell_type": "code",
   "execution_count": 38,
   "id": "e9834e19",
   "metadata": {},
   "outputs": [
    {
     "name": "stdout",
     "output_type": "stream",
     "text": [
      "60.76862633303153\n"
     ]
    }
   ],
   "source": [
    "half_bin_width = 0.5*(bin_edges[1] - bin_edges[0])\n",
    "#recalculate ys_expected, but using half-bin widths\n",
    "ys_expected = STOM_higgs_tools.get_SB_expectation(bin_edges+half_bin_width, A_opt, lamb_opt, signal_mean, signal_sig, signal_amp)\n",
    "chi = 0\n",
    "\n",
    "for i in range( len(bin_heights) ):\n",
    "    chi_nominator = (bin_heights[i] - ys_expected[i])**2\n",
    "    chi_denominator = ys_expected[i]\n",
    "    chi += chi_nominator / chi_denominator\n",
    "\n",
    "print(chi)"
   ]
  },
  {
   "cell_type": "code",
   "execution_count": 40,
   "id": "54900ddb",
   "metadata": {},
   "outputs": [
    {
     "ename": "ModuleNotFoundError",
     "evalue": "No module named 'scipy'",
     "output_type": "error",
     "traceback": [
      "\u001b[0;31m---------------------------------------------------------------------------\u001b[0m",
      "\u001b[0;31mModuleNotFoundError\u001b[0m                       Traceback (most recent call last)",
      "Cell \u001b[0;32mIn[40], line 1\u001b[0m\n\u001b[0;32m----> 1\u001b[0m \u001b[38;5;28;01mimport\u001b[39;00m \u001b[38;5;21;01mscipy\u001b[39;00m\n\u001b[1;32m      2\u001b[0m \u001b[38;5;28;01mfrom\u001b[39;00m \u001b[38;5;21;01mscipy\u001b[39;00m\u001b[38;5;21;01m.\u001b[39;00m\u001b[38;5;21;01mstats\u001b[39;00m \u001b[38;5;28;01mimport\u001b[39;00m chi2\n\u001b[1;32m      4\u001b[0m \u001b[38;5;28;01mdef\u001b[39;00m \u001b[38;5;21mcalculate_p_value\u001b[39m(chi_squared, sample_size):\n",
      "\u001b[0;31mModuleNotFoundError\u001b[0m: No module named 'scipy'"
     ]
    }
   ],
   "source": [
    "\n",
    "from scipy.stats import chi2\n",
    "\n",
    "def calculate_p_value(chi_squared, sample_size):\n",
    "    degrees_of_freedom = sample_size - 1\n",
    "    p_value = 1 - chi2.cdf(chi_squared, degrees_of_freedom)\n",
    "    return p_value\n",
    "\n",
    "# Example usage\n",
    "chi_squared_value = chi\n",
    "sample_size = 30\n",
    "\n",
    "p_value = calculate_p_value(chi_squared_value, sample_size)\n",
    "print(\"p-value:\", p_value)\n"
   ]
  },
  {
   "cell_type": "markdown",
   "id": "a6838085",
   "metadata": {},
   "source": [
    "**Section 5b:** Unknown Mass"
   ]
  }
 ],
 "metadata": {
  "kernelspec": {
   "display_name": "Python 3 (ipykernel)",
   "language": "python",
   "name": "python3"
  },
  "language_info": {
   "codemirror_mode": {
    "name": "ipython",
    "version": 3
   },
   "file_extension": ".py",
   "mimetype": "text/x-python",
   "name": "python",
   "nbconvert_exporter": "python",
   "pygments_lexer": "ipython3",
   "version": "3.10.9"
  }
 },
 "nbformat": 4,
 "nbformat_minor": 5
}
