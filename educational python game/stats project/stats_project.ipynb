{
 "cells": [
  {
   "cell_type": "code",
   "execution_count": 2,
   "id": "f4911862-ea12-45d3-8be1-e0d6dcee0bcc",
   "metadata": {},
   "outputs": [],
   "source": [
    "import numpy as np\n",
    "import matplotlib.pyplot as plt\n",
    "import STOM_higgs_tools"
   ]
  },
  {
   "cell_type": "code",
   "execution_count": null,
   "id": "e2c923e7-5ae4-416f-b055-cd49f3937f75",
   "metadata": {},
   "outputs": [
    {
     "data": {
      "image/png": "[encoded data removed]",
      "text/plain": [
       "<Figure size 432x288 with 1 Axes>"
      ]
     },
     "metadata": {
      "needs_background": "light"
     },
     "output_type": "display_data"
    }
   ],
   "source": [
    "vals = STOM_higgs_tools.generate_data()\n",
    "bin_heights, bin_edges, patches = plt.hist(vals, range = [104, 155], bins = 30)\n",
    "plt.show() "
   ]
  },
  {
   "cell_type": "code",
   "execution_count": null,
   "id": "1de10cf9-bf96-4b6d-862e-226778cfbae1",
   "metadata": {},
   "outputs": [],
   "source": []
  }
 ],
 "metadata": {
  "kernelspec": {
   "display_name": "Python 3",
   "language": "python",
   "name": "python3"
  },
  "language_info": {
   "codemirror_mode": {
    "name": "ipython",
    "version": 3
   },
   "file_extension": ".py",
   "mimetype": "text/x-python",
   "name": "python",
   "nbconvert_exporter": "python",
   "pygments_lexer": "ipython3",
   "version": "3.8.8"
  }
 },
 "nbformat": 4,
 "nbformat_minor": 5
}
