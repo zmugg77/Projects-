{
 "cells": [
  {
   "cell_type": "markdown",
   "id": "ee153af4",
   "metadata": {},
   "source": [
    "# Relativity Python coursework: Debugging report for CID 0xxxxxxx"
   ]
  },
  {
   "cell_type": "markdown",
   "id": "baeaeeb1",
   "metadata": {},
   "source": [
    "Replace the x's **in the title above** and **in the filename** with your CID number.  Do not include your name (the coursework will be marked anonymously).  You can rename the file in Jupyter notebooks by going to the File menu > Rename.\n",
    "\n",
    "Fill in details of bugs you have found in the corresponding sections below. Make sure you fill in the correct section which corresponds to the section of code you found the bug in, otherwise you might not get credit for that bug. \n",
    "\n",
    "**Please make sure you read the PDF instructions on Blackboard to see what information you need to include for each bug.**\n",
    "\n",
    "Make sure you also add the additional information the notebook directs you to add to the debugging report - these bits count for a significant fraction of the marks.\n",
    "\n",
    "The code you received probably does not have bugs in every section.  LEAVE BLANK any sections for which you did not find any bugs.\n",
    "\n",
    "You can add extra cells in any of the sections below if you like, as appropriate, including adding additional subheadings. You can use code cells and/or markdown cells and/or copy-and-paste outputs across from your code notebook as appropriate. This notebook is just a report and will not be run, so (unlike for your code notebook which you also need to submit) you do not need to spend time making any code cells you include in this report executable. If it helps, you can include images such as screen snips. Please follow the instructions for the task which you can find in the M&R relativity folder on Blackboard - these include more detailed guidance about this.\n",
    "\n",
    "**IMPORTANT: DO NOT EDIT THE TITLE OF ANY OF THE SECTIONS BELOW.**  **Penalties will be applied** in cases where the titles below are changed.  This is because your submission will be processed automatically prior to marking and these exact titles are part of the processing script."
   ]
  },
  {
   "cell_type": "markdown",
   "id": "3d3a9cdc",
   "metadata": {},
   "source": [
    "### Bugs found in Section 1.1"
   ]
  },
  {
   "cell_type": "markdown",
   "id": "40146663",
   "metadata": {},
   "source": [
    "The orignal code to find the energy of the particle"
   ]
  },
  {
   "cell_type": "code",
   "execution_count": null,
   "id": "2233dd2b",
   "metadata": {},
   "outputs": [],
   "source": [
    "def findEProd_rf(ma,mb,mc):\n",
    "    #return energy in natural units for inputs in natural units\n",
    "    return mc*c**2"
   ]
  },
  {
   "cell_type": "markdown",
   "id": "8d685888",
   "metadata": {},
   "source": [
    "although the formula for the energy is E = mc^2, this does not apply to relatavistic energiies and velocities, teh new formula for ernergy is, E = sqrt(m^2 + p^2).   (with p as rho, momentum)\n",
    "\n",
    "so i altered it to accomodate this"
   ]
  },
  {
   "cell_type": "code",
   "execution_count": null,
   "id": "04800d08",
   "metadata": {},
   "outputs": [],
   "source": [
    "def findEProd_rf(ma,mb,mc):\n",
    "    # calculate energy in the rest frame using relativistic formula\n",
    "    p = math.sqrt((ma**2 - (mb + mc)**2) * (ma**2 - (mb - mc)**2)) / (2 * ma)\n",
    "    energy = math.sqrt(mc**2 + p**2)\n",
    "    return energy  "
   ]
  },
  {
   "cell_type": "markdown",
   "id": "d58c1237",
   "metadata": {},
   "source": [
    "### Bugs found in Section 1.2"
   ]
  },
  {
   "cell_type": "code",
   "execution_count": null,
   "id": "0ad3d26b",
   "metadata": {},
   "outputs": [],
   "source": [
    "E_pi_lab = mpi  # Total energy of pion in the lab frame\n",
    "\n",
    "E_total_rf_pi = Ee_rf_pi + Enu_e_rf_pi  # Total energy of decay products in the rest frame of pion\n",
    "E_total_lab_pi = E_total_rf_pi  # Total energy of decay products in the lab frame (energy is conserved)\n",
    "\n",
    "# Verify energy conservation\n",
    "energy_conserved_pi = abs(E_pi_lab - E_total_lab_pi) < 1e-6  # Check if the difference is negligible\n",
    "\n",
    "if energy_conserved_pi:\n",
    "    print(\"Energy is conserved for pion decay.\")\n",
    "else:\n",
    "    print(\"Energy is not conserved for pion decay.\")\n",
    "\n",
    "    \n",
    "E_K_lab = mK  # Total energy of kaon in the lab frame\n",
    "\n",
    "E_total_rf_K = Ee_rf_K + Enu_e_rf_K  # Total energy of decay products in the rest frame of kaon\n",
    "E_total_lab_K = E_total_rf_K  # Total energy of decay products in the lab frame (energy is conserved)\n",
    "\n",
    "# Verify energy conservation\n",
    "energy_conserved_K = abs(E_K_lab - E_total_lab_K) < 1e-6  # Check if the difference is negligible\n",
    "\n",
    "if energy_conserved_K:\n",
    "    print(\"Energy is conserved for kaon decay.\")\n",
    "else:\n",
    "    print(\"Energy is not conserved for kaon decay.\")\n"
   ]
  },
  {
   "cell_type": "markdown",
   "id": "6992ac3d",
   "metadata": {},
   "source": [
    "no code errors found in this section, the code above is what i added to check for energy conservation."
   ]
  },
  {
   "cell_type": "markdown",
   "id": "642a8acf",
   "metadata": {},
   "source": [
    "### Bugs found in Section 1.3"
   ]
  },
  {
   "cell_type": "markdown",
   "id": "e7e258e0",
   "metadata": {},
   "source": [
    "no errors found in this section, added to the code to calculate the muon energies and verify."
   ]
  },
  {
   "cell_type": "markdown",
   "id": "1424b2c7",
   "metadata": {},
   "source": [
    "### Bugs found in Section 1.4a"
   ]
  },
  {
   "cell_type": "markdown",
   "id": "101a0e66",
   "metadata": {},
   "source": []
  },
  {
   "cell_type": "markdown",
   "id": "61428eff",
   "metadata": {},
   "source": [
    "### Bugs found in Section 1.4b"
   ]
  },
  {
   "cell_type": "markdown",
   "id": "3ff999e0",
   "metadata": {},
   "source": []
  },
  {
   "cell_type": "markdown",
   "id": "a7f9cba3",
   "metadata": {},
   "source": [
    "### Bugs found in Section 1.5a"
   ]
  },
  {
   "cell_type": "markdown",
   "id": "f07b76c0",
   "metadata": {},
   "source": []
  },
  {
   "cell_type": "markdown",
   "id": "a37f5031",
   "metadata": {},
   "source": [
    "### Bugs found in Section 1.5b"
   ]
  },
  {
   "cell_type": "markdown",
   "id": "94169881",
   "metadata": {},
   "source": []
  },
  {
   "cell_type": "markdown",
   "id": "9a26b12f",
   "metadata": {},
   "source": [
    "### Bugs found in Section 1.5c"
   ]
  },
  {
   "cell_type": "markdown",
   "id": "5118d85c",
   "metadata": {},
   "source": []
  },
  {
   "cell_type": "markdown",
   "id": "e78d7973",
   "metadata": {},
   "source": [
    "### Bugs found in Section 1.6"
   ]
  },
  {
   "cell_type": "markdown",
   "id": "35f28b30",
   "metadata": {},
   "source": []
  },
  {
   "cell_type": "markdown",
   "id": "b3122f8e",
   "metadata": {},
   "source": [
    "### Bugs found in Section 1.7"
   ]
  },
  {
   "cell_type": "markdown",
   "id": "972a8dd2",
   "metadata": {},
   "source": []
  },
  {
   "cell_type": "markdown",
   "id": "8153731c",
   "metadata": {},
   "source": [
    "### Bugs found in Section 1.8a"
   ]
  },
  {
   "cell_type": "markdown",
   "id": "fa3bbb48",
   "metadata": {},
   "source": []
  },
  {
   "cell_type": "markdown",
   "id": "e3ec2532",
   "metadata": {},
   "source": [
    "### Bugs found in Section 1.8b"
   ]
  },
  {
   "cell_type": "markdown",
   "id": "fbce936c",
   "metadata": {},
   "source": []
  },
  {
   "cell_type": "markdown",
   "id": "36f50670",
   "metadata": {},
   "source": [
    "### Bugs found in Section 2.0a"
   ]
  },
  {
   "cell_type": "markdown",
   "id": "2850d234",
   "metadata": {},
   "source": []
  },
  {
   "cell_type": "markdown",
   "id": "931318d0",
   "metadata": {},
   "source": [
    "### Bugs found in Section 2.0b"
   ]
  },
  {
   "cell_type": "markdown",
   "id": "7b300c3b",
   "metadata": {},
   "source": []
  },
  {
   "cell_type": "markdown",
   "id": "beffc026",
   "metadata": {},
   "source": [
    "### Bugs found in Section 2.0c"
   ]
  },
  {
   "cell_type": "markdown",
   "id": "0b7b59fd",
   "metadata": {},
   "source": []
  },
  {
   "cell_type": "markdown",
   "id": "226ea191",
   "metadata": {},
   "source": [
    "### Bugs found in Section 2.0d"
   ]
  },
  {
   "cell_type": "markdown",
   "id": "d6f3fa29",
   "metadata": {},
   "source": []
  },
  {
   "cell_type": "markdown",
   "id": "6638037d",
   "metadata": {},
   "source": [
    "### Bugs found in Section 2.1"
   ]
  },
  {
   "cell_type": "markdown",
   "id": "324a42ae",
   "metadata": {},
   "source": []
  },
  {
   "cell_type": "markdown",
   "id": "a92d64f4",
   "metadata": {},
   "source": [
    "### Bugs found in Section 2.2a"
   ]
  },
  {
   "cell_type": "markdown",
   "id": "7d04b3c8",
   "metadata": {},
   "source": []
  },
  {
   "cell_type": "markdown",
   "id": "3f546645",
   "metadata": {},
   "source": [
    "### Bugs found in Section 2.2b"
   ]
  },
  {
   "cell_type": "markdown",
   "id": "6bba7ff8",
   "metadata": {},
   "source": []
  },
  {
   "cell_type": "markdown",
   "id": "bed43900",
   "metadata": {},
   "source": [
    "### Bugs found in Section 2.2c"
   ]
  },
  {
   "cell_type": "markdown",
   "id": "58cf90b3",
   "metadata": {},
   "source": []
  },
  {
   "cell_type": "markdown",
   "id": "f3bc7de4",
   "metadata": {},
   "source": [
    "### Bugs found in Section 2.2d"
   ]
  },
  {
   "cell_type": "markdown",
   "id": "c98c2b1f",
   "metadata": {},
   "source": []
  },
  {
   "cell_type": "markdown",
   "id": "8d9404da",
   "metadata": {},
   "source": [
    "### Bugs found in Section 2.3"
   ]
  },
  {
   "cell_type": "markdown",
   "id": "7f8152e2",
   "metadata": {},
   "source": []
  },
  {
   "cell_type": "markdown",
   "id": "4434cefd",
   "metadata": {},
   "source": [
    "### Bugs found in Section 2.4"
   ]
  },
  {
   "cell_type": "markdown",
   "id": "72aed9cd",
   "metadata": {},
   "source": []
  },
  {
   "cell_type": "markdown",
   "id": "fca46a10",
   "metadata": {},
   "source": [
    "### Bugs found in Section 3 Intro"
   ]
  },
  {
   "cell_type": "markdown",
   "id": "322541c2",
   "metadata": {},
   "source": []
  },
  {
   "cell_type": "markdown",
   "id": "75aa1d52",
   "metadata": {},
   "source": [
    "### Bugs found in Section 3.0"
   ]
  },
  {
   "cell_type": "markdown",
   "id": "5a296d68",
   "metadata": {},
   "source": []
  },
  {
   "cell_type": "markdown",
   "id": "5e0e811c",
   "metadata": {},
   "source": [
    "### Bugs found in Section 3.1a"
   ]
  },
  {
   "cell_type": "markdown",
   "id": "774f589d",
   "metadata": {},
   "source": []
  },
  {
   "cell_type": "markdown",
   "id": "a89f2f3e",
   "metadata": {},
   "source": [
    "### Bugs found in Section 3.1b"
   ]
  },
  {
   "cell_type": "markdown",
   "id": "d5c48539",
   "metadata": {},
   "source": []
  },
  {
   "cell_type": "markdown",
   "id": "9f34319b",
   "metadata": {},
   "source": [
    "### Bugs found in Section 3.1c"
   ]
  },
  {
   "cell_type": "markdown",
   "id": "5b1e6ca4",
   "metadata": {},
   "source": []
  },
  {
   "cell_type": "markdown",
   "id": "51886d6a",
   "metadata": {},
   "source": [
    "### Bugs found in Section 3.1d"
   ]
  },
  {
   "cell_type": "markdown",
   "id": "6b3e58df",
   "metadata": {},
   "source": []
  },
  {
   "cell_type": "markdown",
   "id": "e5b27742",
   "metadata": {},
   "source": [
    "### Bugs found in Section 3.2"
   ]
  },
  {
   "cell_type": "markdown",
   "id": "dcdc0997",
   "metadata": {},
   "source": []
  },
  {
   "cell_type": "markdown",
   "id": "b9739d6a",
   "metadata": {},
   "source": [
    "### Bugs found in Section 3.3a"
   ]
  },
  {
   "cell_type": "markdown",
   "id": "2b361388",
   "metadata": {},
   "source": []
  },
  {
   "cell_type": "markdown",
   "id": "913d4399",
   "metadata": {},
   "source": [
    "### Bugs found in Section 3.3b"
   ]
  },
  {
   "cell_type": "markdown",
   "id": "fd0e1ec6",
   "metadata": {},
   "source": []
  },
  {
   "cell_type": "markdown",
   "id": "f4d8e63d",
   "metadata": {},
   "source": [
    "### Bugs found in Section 3.3c"
   ]
  },
  {
   "cell_type": "markdown",
   "id": "8dd67bce",
   "metadata": {},
   "source": []
  },
  {
   "cell_type": "markdown",
   "id": "f3213d93",
   "metadata": {},
   "source": [
    "### Bugs found in Section 3.3d"
   ]
  },
  {
   "cell_type": "markdown",
   "id": "9df442c7",
   "metadata": {},
   "source": []
  },
  {
   "cell_type": "markdown",
   "id": "c02b0af6",
   "metadata": {},
   "source": [
    "### Bugs found in Section 3.3e"
   ]
  },
  {
   "cell_type": "markdown",
   "id": "848757fb",
   "metadata": {},
   "source": []
  }
 ],
 "metadata": {
  "kernelspec": {
   "display_name": "Python 3 (ipykernel)",
   "language": "python",
   "name": "python3"
  },
  "language_info": {
   "codemirror_mode": {
    "name": "ipython",
    "version": 3
   },
   "file_extension": ".py",
   "mimetype": "text/x-python",
   "name": "python",
   "nbconvert_exporter": "python",
   "pygments_lexer": "ipython3",
   "version": "3.10.9"
  }
 },
 "nbformat": 4,
 "nbformat_minor": 5
}
