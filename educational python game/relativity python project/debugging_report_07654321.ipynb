{
 "cells": [
  {
   "cell_type": "markdown",
   "id": "ee153af4",
   "metadata": {},
   "source": [
    "# Relativity Python coursework: Debugging report for CID 07654321"
   ]
  },
  {
   "cell_type": "markdown",
   "id": "088e0802",
   "metadata": {},
   "source": [
    "\\[title and filename edited as for a student with CID 07654321\\]"
   ]
  },
  {
   "cell_type": "markdown",
   "id": "baeaeeb1",
   "metadata": {},
   "source": [
    "Fill in details of bugs you have found in the corresponding sections below. Make sure you fill in the correct section which corresponds to the section of code you found the bug in, otherwise you might not get credit for that bug.\n",
    "\n",
    "Make sure you also add the additional information requested in the notebook - these bits count for a significant fraction of the marks.\n",
    "\n",
    "The code you received probably does not have bugs in every section.  LEAVE BLANK any sections for which you did not find any bugs.\n",
    "\n",
    "You can add extra cells in any of the sections below if you like, as appropriate, including adding additional subheadings. You can use code cells and/or markdown cells and/or copy-and-paste outputs across from your code notebook as appropriate. This notebook is just a report and will not be run, so (unlike for your code notebook which you also need to submit) you do not need to spend time making any code cells you include in this report executable. If it helps, you can include images such as screen snips. Please follow the instructions for the task which you can find in the M&R relativity folder on Blackboard - these include more detailed guidance about this.\n",
    "\n",
    "**IMPORTANT: DO NOT EDIT THE TITLE OF ANY OF THE SECTIONS BELOW.**  **Penalties will be applied** in cases where the titles below are changed.  This is because your submission will be processed automatically prior to marking and these exact titles are part of the processing script."
   ]
  },
  {
   "cell_type": "markdown",
   "id": "3d3a9cdc",
   "metadata": {},
   "source": [
    "### Bugs found in Section 1.1"
   ]
  },
  {
   "cell_type": "markdown",
   "id": "40146663",
   "metadata": {},
   "source": [
    "The original code in this section for calculating the velocity from the momentum:"
   ]
  },
  {
   "cell_type": "code",
   "execution_count": null,
   "id": "4766fe28",
   "metadata": {},
   "outputs": [],
   "source": [
    "u=p/m"
   ]
  },
  {
   "cell_type": "markdown",
   "id": "dc8bffd4",
   "metadata": {},
   "source": [
    "is the classical (non-relativistic) relationship but is not valid at relativistic speeds.  \n",
    "\n",
    "More generally, the 3-momentum p of a particle of (rest) mass m, travelling at velocity u in a certain frame is "
   ]
  },
  {
   "cell_type": "code",
   "execution_count": null,
   "id": "4ff90a54",
   "metadata": {
    "scrolled": false
   },
   "outputs": [],
   "source": [
    "p=gamma_u*m*u"
   ]
  },
  {
   "cell_type": "markdown",
   "id": "69005578",
   "metadata": {},
   "source": [
    "so I corrected the code to\n",
    "u=p/(gamma_u*m)\n",
    "\n",
    "where gamma_u is the gamma for a particle travelling at speed u and has already been calculated in section 2.2"
   ]
  },
  {
   "cell_type": "markdown",
   "id": "08c70048",
   "metadata": {},
   "source": [
    "You could include any equation in a code cell as above. Alternatively, if including the same equation in a markdown cell, to avoid characters such as \\* not being displayed, you might want to surround your equation by a dollar symbol on each side so it is displayed using (LaTeX-like) equation formatting:\n",
    "\n",
    "$p=gamma_u*m*u$ or $p=\\gamma_u mu$\n",
    "\n",
    "Note that any of these 3 possibilities is fine -- fancy formatting of any equations you include is not required. "
   ]
  },
  {
   "cell_type": "markdown",
   "id": "d58c1237",
   "metadata": {},
   "source": [
    "### Bugs found in Section 1.2"
   ]
  },
  {
   "cell_type": "markdown",
   "id": "eb84d00f",
   "metadata": {},
   "source": [
    "The original code in this section:"
   ]
  },
  {
   "cell_type": "code",
   "execution_count": null,
   "id": "107ef47c",
   "metadata": {},
   "outputs": [],
   "source": [
    "E=1e9*e/1055.06 #parent-particle energy in lab frame in British Thermal Units\n",
    "mpi=140 #pi mass in natural units MeV/c^2\n",
    "beta=findbeta(E,mpi)"
   ]
  },
  {
   "cell_type": "markdown",
   "id": "40c5f047",
   "metadata": {},
   "source": [
    "has an error because the energy is in BTU and the mass is in natural units, but the units for the input arguments of findbeta need to be consistent, e.g. both in natural units. I corrected this to:"
   ]
  },
  {
   "cell_type": "code",
   "execution_count": null,
   "id": "057760f0",
   "metadata": {},
   "outputs": [],
   "source": [
    "E=1e3 #parent-particle energy (1GeV) in natural MeV units\n",
    "mpi=140 #pi mass in natural units MeV/c^2\n",
    "beta=findbeta(E,mpi)"
   ]
  },
  {
   "cell_type": "markdown",
   "id": "539cf4d3",
   "metadata": {},
   "source": [
    "An alternative is to paste a screenshot of the relevant code section into a markdown cell.  If you do this, just include the relevant part of the code, not the whole section.  Make sure you include your explanation as text in a markdown cell (not part of the screenshot)"
   ]
  },
  {
   "attachments": {
    "image-2.png": {
     "image/png": "[encoded data removed]"
    }
   },
   "cell_type": "markdown",
   "id": "4c8d7410",
   "metadata": {},
   "source": [
    "![image-2.png](attachment:image-2.png)"
   ]
  },
  {
   "cell_type": "markdown",
   "id": "a01cba43",
   "metadata": {},
   "source": [
    "has an error because the energy is in BTU and the mass is in natural units, but the units for the input arguments of findbeta need to be consistent, e.g. both in natural units. I corrected this to:"
   ]
  },
  {
   "cell_type": "code",
   "execution_count": null,
   "id": "88078462",
   "metadata": {},
   "outputs": [],
   "source": [
    "E=1e3 #parent-particle energy (1GeV) in natural MeV units\n",
    "mpi=140 #pi mass in natural units MeV/c^2\n",
    "beta=findbeta(E,mpi)"
   ]
  },
  {
   "cell_type": "markdown",
   "id": "28170e0f",
   "metadata": {},
   "source": [
    "As you can see, the first version (cutting and pasting the snippet of the code as a code cell) probably looks better and is probably easier too.  \n",
    "\n",
    "If you are not very familiar with Jupyter notebooks, you can get help about shortcuts by clicking in the borders -or pressing Escape- and then pressing H, or from the help menu. Some of the most useful shortcuts are A, B, M and Y."
   ]
  },
  {
   "cell_type": "markdown",
   "id": "642a8acf",
   "metadata": {},
   "source": [
    "### Bugs found in Section 1.3"
   ]
  },
  {
   "cell_type": "markdown",
   "id": "e7e258e0",
   "metadata": {},
   "source": [
    "In this example I have left all the remaining sections of the notebook empty.  You should leave blank any section in which you found no bugs - but make sure that you include in that section any additional tasks the script asks you to do."
   ]
  },
  {
   "cell_type": "markdown",
   "id": "1424b2c7",
   "metadata": {},
   "source": [
    "### Bugs found in Section 1.4"
   ]
  },
  {
   "cell_type": "markdown",
   "id": "101a0e66",
   "metadata": {},
   "source": []
  },
  {
   "cell_type": "markdown",
   "id": "a7f9cba3",
   "metadata": {},
   "source": [
    "### Bugs found in Section 1.5a"
   ]
  },
  {
   "cell_type": "markdown",
   "id": "f07b76c0",
   "metadata": {},
   "source": []
  },
  {
   "cell_type": "markdown",
   "id": "a37f5031",
   "metadata": {},
   "source": [
    "### Bugs found in Section 1.5b"
   ]
  },
  {
   "cell_type": "markdown",
   "id": "94169881",
   "metadata": {},
   "source": []
  },
  {
   "cell_type": "markdown",
   "id": "e78d7973",
   "metadata": {},
   "source": [
    "### Bugs found in Section 1.6"
   ]
  },
  {
   "cell_type": "markdown",
   "id": "35f28b30",
   "metadata": {},
   "source": []
  },
  {
   "cell_type": "markdown",
   "id": "b3122f8e",
   "metadata": {},
   "source": [
    "### Bugs found in Section 1.7"
   ]
  },
  {
   "cell_type": "markdown",
   "id": "972a8dd2",
   "metadata": {},
   "source": []
  },
  {
   "cell_type": "markdown",
   "id": "8153731c",
   "metadata": {},
   "source": [
    "### Bugs found in Section 1.8a"
   ]
  },
  {
   "cell_type": "markdown",
   "id": "fa3bbb48",
   "metadata": {},
   "source": []
  },
  {
   "cell_type": "markdown",
   "id": "e3ec2532",
   "metadata": {},
   "source": [
    "### Bugs found in Section 1.8b"
   ]
  },
  {
   "cell_type": "markdown",
   "id": "fbce936c",
   "metadata": {},
   "source": []
  },
  {
   "cell_type": "markdown",
   "id": "36f50670",
   "metadata": {},
   "source": [
    "### Bugs found in Section 2.0a"
   ]
  },
  {
   "cell_type": "markdown",
   "id": "2850d234",
   "metadata": {},
   "source": []
  },
  {
   "cell_type": "markdown",
   "id": "931318d0",
   "metadata": {},
   "source": [
    "### Bugs found in Section 2.0b"
   ]
  },
  {
   "cell_type": "markdown",
   "id": "7b300c3b",
   "metadata": {},
   "source": []
  },
  {
   "cell_type": "markdown",
   "id": "beffc026",
   "metadata": {},
   "source": [
    "### Bugs found in Section 2.0c"
   ]
  },
  {
   "cell_type": "markdown",
   "id": "0b7b59fd",
   "metadata": {},
   "source": []
  },
  {
   "cell_type": "markdown",
   "id": "226ea191",
   "metadata": {},
   "source": [
    "### Bugs found in Section 2.0d"
   ]
  },
  {
   "cell_type": "markdown",
   "id": "d6f3fa29",
   "metadata": {},
   "source": []
  },
  {
   "cell_type": "markdown",
   "id": "6638037d",
   "metadata": {},
   "source": [
    "### Bugs found in Section 2.1"
   ]
  },
  {
   "cell_type": "markdown",
   "id": "324a42ae",
   "metadata": {},
   "source": []
  },
  {
   "cell_type": "markdown",
   "id": "a92d64f4",
   "metadata": {},
   "source": [
    "### Bugs found in Section 2.2a"
   ]
  },
  {
   "cell_type": "markdown",
   "id": "7d04b3c8",
   "metadata": {},
   "source": []
  },
  {
   "cell_type": "markdown",
   "id": "3f546645",
   "metadata": {},
   "source": [
    "### Bugs found in Section 2.2b"
   ]
  },
  {
   "cell_type": "markdown",
   "id": "6bba7ff8",
   "metadata": {},
   "source": []
  },
  {
   "cell_type": "markdown",
   "id": "bed43900",
   "metadata": {},
   "source": [
    "### Bugs found in Section 2.2c"
   ]
  },
  {
   "cell_type": "markdown",
   "id": "58cf90b3",
   "metadata": {},
   "source": []
  },
  {
   "cell_type": "markdown",
   "id": "f3bc7de4",
   "metadata": {},
   "source": [
    "### Bugs found in Section 2.2d"
   ]
  },
  {
   "cell_type": "markdown",
   "id": "c98c2b1f",
   "metadata": {},
   "source": []
  },
  {
   "cell_type": "markdown",
   "id": "8d9404da",
   "metadata": {},
   "source": [
    "### Bugs found in Section 2.3"
   ]
  },
  {
   "cell_type": "markdown",
   "id": "7f8152e2",
   "metadata": {},
   "source": []
  },
  {
   "cell_type": "markdown",
   "id": "4434cefd",
   "metadata": {},
   "source": [
    "### Bugs found in Section 2.4"
   ]
  },
  {
   "cell_type": "markdown",
   "id": "72aed9cd",
   "metadata": {},
   "source": []
  },
  {
   "cell_type": "markdown",
   "id": "fca46a10",
   "metadata": {},
   "source": [
    "### Bugs found in Section 3 Intro"
   ]
  },
  {
   "cell_type": "markdown",
   "id": "322541c2",
   "metadata": {},
   "source": []
  },
  {
   "cell_type": "markdown",
   "id": "75aa1d52",
   "metadata": {},
   "source": [
    "### Bugs found in Section 3.0a"
   ]
  },
  {
   "cell_type": "markdown",
   "id": "5a296d68",
   "metadata": {},
   "source": []
  },
  {
   "cell_type": "markdown",
   "id": "5e0e811c",
   "metadata": {},
   "source": [
    "### Bugs found in Section 3.1a"
   ]
  },
  {
   "cell_type": "markdown",
   "id": "774f589d",
   "metadata": {},
   "source": []
  },
  {
   "cell_type": "markdown",
   "id": "a89f2f3e",
   "metadata": {},
   "source": [
    "### Bugs found in Section 3.1b"
   ]
  },
  {
   "cell_type": "markdown",
   "id": "d5c48539",
   "metadata": {},
   "source": []
  },
  {
   "cell_type": "markdown",
   "id": "9f34319b",
   "metadata": {},
   "source": [
    "### Bugs found in Section 3.1c"
   ]
  },
  {
   "cell_type": "markdown",
   "id": "5b1e6ca4",
   "metadata": {},
   "source": []
  },
  {
   "cell_type": "markdown",
   "id": "51886d6a",
   "metadata": {},
   "source": [
    "### Bugs found in Section 3.1d"
   ]
  },
  {
   "cell_type": "markdown",
   "id": "6b3e58df",
   "metadata": {},
   "source": []
  },
  {
   "cell_type": "markdown",
   "id": "e5b27742",
   "metadata": {},
   "source": [
    "### Bugs found in Section 3.2"
   ]
  },
  {
   "cell_type": "markdown",
   "id": "dcdc0997",
   "metadata": {},
   "source": []
  },
  {
   "cell_type": "markdown",
   "id": "b9739d6a",
   "metadata": {},
   "source": [
    "### Bugs found in Section 3.3"
   ]
  },
  {
   "cell_type": "markdown",
   "id": "2b361388",
   "metadata": {},
   "source": []
  },
  {
   "cell_type": "markdown",
   "id": "913d4399",
   "metadata": {},
   "source": [
    "### Bugs found in Section 3.3b"
   ]
  },
  {
   "cell_type": "markdown",
   "id": "fd0e1ec6",
   "metadata": {},
   "source": []
  },
  {
   "cell_type": "markdown",
   "id": "f4d8e63d",
   "metadata": {},
   "source": [
    "### Bugs found in Section 3.3c"
   ]
  },
  {
   "cell_type": "markdown",
   "id": "8dd67bce",
   "metadata": {},
   "source": []
  },
  {
   "cell_type": "markdown",
   "id": "f3213d93",
   "metadata": {},
   "source": [
    "### Bugs found in Section 3.3d"
   ]
  },
  {
   "cell_type": "markdown",
   "id": "9df442c7",
   "metadata": {},
   "source": []
  }
 ],
 "metadata": {
  "kernelspec": {
   "display_name": "Python 3 (ipykernel)",
   "language": "python",
   "name": "python3"
  },
  "language_info": {
   "codemirror_mode": {
    "name": "ipython",
    "version": 3
   },
   "file_extension": ".py",
   "mimetype": "text/x-python",
   "name": "python",
   "nbconvert_exporter": "python",
   "pygments_lexer": "ipython3",
   "version": "3.10.9"
  }
 },
 "nbformat": 4,
 "nbformat_minor": 5
}
